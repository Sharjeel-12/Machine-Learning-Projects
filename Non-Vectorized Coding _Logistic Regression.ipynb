{
 "cells": [
  {
   "cell_type": "markdown",
   "id": "c45321fd-a919-4ca7-99e9-1bd46e4db240",
   "metadata": {},
   "source": [
    "## Logistic Regression:<span style='color:red; font-weight:bold;'> \"Non- Vectorized Version\"</span>"
   ]
  },
  {
   "cell_type": "code",
   "execution_count": 1,
   "id": "84f1d9ce-c108-4a18-998b-639b66fd8014",
   "metadata": {},
   "outputs": [],
   "source": [
    "import numpy as np\n",
    "import matplotlib.pyplot as plt\n",
    "%matplotlib inline"
   ]
  },
  {
   "cell_type": "markdown",
   "id": "50417da6-6b29-4022-9b94-64d5d853efc9",
   "metadata": {},
   "source": [
    "In this tutorial we will be dealing with Logistic Regression for multiple variables and using only for loops and non vector algorithm, No doubt the vectorized code is cool but having an idea and strong underdtanding about `for` loops is also essential for an engineer"
   ]
  },
  {
   "cell_type": "code",
   "execution_count": 2,
   "id": "1da41c7f-7da3-4fa5-a893-94b96aa4c1c9",
   "metadata": {},
   "outputs": [],
   "source": [
    "def g(z):\n",
    "    return 1/(1+np.exp(-z))"
   ]
  },
  {
   "cell_type": "markdown",
   "id": "464b96ab-9f5c-4887-88f5-7fff07f139c8",
   "metadata": {},
   "source": [
    "## Function: `compute_cost(X,Y,W,b)`"
   ]
  },
  {
   "cell_type": "markdown",
   "id": "5577ce90-9635-49b1-ad51-b35fe3e2ee3b",
   "metadata": {},
   "source": [
    "### <span style='color:green; font-family:Times New Roman;'>This function computes the Average cost value of the model</span>"
   ]
  },
  {
   "cell_type": "code",
   "execution_count": 3,
   "id": "8b57192a-1053-4ce6-9715-3ec51701b8e5",
   "metadata": {},
   "outputs": [],
   "source": [
    "def compute_cost(X,Y,W,b):\n",
    "    # X is the input matrix of shape (m,n) where m is the number of samples and n=number of features\n",
    "    # Y is the array of data labels of shape (m,)\n",
    "    # W is the array of shape (n,)\n",
    "    m,n=X.shape\n",
    "    cost=0\n",
    "    for i in range(m):\n",
    "        z_wb=0\n",
    "        for j in range(n):\n",
    "            z_wb+=W[j]*X[i][j]\n",
    "        z_wb=z_wb+b\n",
    "        f_wb=g(z_wb)\n",
    "        cost+=(-1/m)*(Y[i]*np.log(f_wb)+(1-Y[i])*np.log(1-f_wb))\n",
    "    return cost"
   ]
  },
  {
   "cell_type": "markdown",
   "id": "9f9b1327-d71f-4e7b-8784-6f229c2812b9",
   "metadata": {},
   "source": [
    "### Lets test the function output: -\n",
    "We just get some rough data for this purpose"
   ]
  },
  {
   "cell_type": "code",
   "execution_count": 4,
   "id": "46e5c5a8-3a67-45be-9e1e-5caf9df25f6a",
   "metadata": {},
   "outputs": [
    {
     "data": {
      "text/plain": [
       "1.0860196686132662"
      ]
     },
     "execution_count": 4,
     "metadata": {},
     "output_type": "execute_result"
    }
   ],
   "source": [
    "X=np.array([0., 1, 2, 3, 4, 5],dtype=np.longdouble)\n",
    "Y=np.array([0,  0, 0, 1, 1, 1],dtype=np.longdouble)\n",
    "W=np.array([1])\n",
    "b=1\n",
    "compute_cost(X.reshape(-1,1),Y,W,b)"
   ]
  },
  {
   "cell_type": "markdown",
   "id": "3c53f6e4-084f-4ed6-a8f1-59752182fd8e",
   "metadata": {},
   "source": [
    "<span style='color:blue;'>This gave the same results as the vectorized version</span>"
   ]
  },
  {
   "cell_type": "markdown",
   "id": "ca33339e-9d42-4b17-ae70-22c21b9ae727",
   "metadata": {},
   "source": [
    "## Function: `compute_gradient(X,Y,W,b)`"
   ]
  },
  {
   "cell_type": "markdown",
   "id": "c94daa03-f7a4-4337-9772-e868ef980268",
   "metadata": {},
   "source": [
    "### <span style='color:purple; font-family:Times New Roman;'>This function computes the gradient of the cost function w.r.t. weights and bias of the model </span>"
   ]
  },
  {
   "cell_type": "code",
   "execution_count": 14,
   "id": "10f483ed-3293-4342-982f-3085728f14b8",
   "metadata": {},
   "outputs": [],
   "source": [
    "def compute_gradient(X,Y,W,b):\n",
    "    # X is the input matrix of shape (m,n) where \n",
    "    # m = total number of samples and n = number of features\n",
    "    # Y is the array of data labels of shape (m,)\n",
    "    # W is the array of shape (n,)\n",
    "    m,n=X.shape\n",
    "    dj_dw=np.zeros(n)\n",
    "    dj_db=0\n",
    "    for i in range(m):\n",
    "        z_wb=0\n",
    "        for j in range(n):\n",
    "            z_wb+=W[j]*X[i][j]\n",
    "        z_wb=z_wb+b\n",
    "        f_wb=g(z_wb)\n",
    "        delta=f_wb-Y[i]\n",
    "        dj_dw+=(1/m)*(delta*X[i])\n",
    "        dj_db+=(1/m)*delta\n",
    "    return dj_dw,dj_db\n",
    "    "
   ]
  },
  {
   "cell_type": "code",
   "execution_count": 6,
   "id": "991e67bd-1a35-4864-a932-4143c7ce3b5f",
   "metadata": {},
   "outputs": [
    {
     "data": {
      "text/plain": [
       "(array([0.4488087]), 0.4228796832312182)"
      ]
     },
     "execution_count": 6,
     "metadata": {},
     "output_type": "execute_result"
    }
   ],
   "source": [
    "compute_gradient(X.reshape(-1,1),Y,W,b)"
   ]
  },
  {
   "cell_type": "markdown",
   "id": "f20fdaff-6e74-4daf-bd24-8c9997320e86",
   "metadata": {},
   "source": [
    "#### Runs Smooth "
   ]
  },
  {
   "cell_type": "markdown",
   "id": "b1256d2e-8fe6-4ab8-bfbc-d03f3ed7b335",
   "metadata": {},
   "source": [
    "## Function: `compute_BatchGD(X,Y,W,b)`"
   ]
  },
  {
   "cell_type": "markdown",
   "id": "86fc1cbe-187a-49e0-8be5-90c3516f9ab0",
   "metadata": {},
   "source": [
    "### <span style='color:green; font-family:Times New Roman;'>This function computes the Batch Gradient Descent  </span>"
   ]
  },
  {
   "cell_type": "code",
   "execution_count": 7,
   "id": "0a731e26-a9a8-4e28-8a23-a3ec48877644",
   "metadata": {},
   "outputs": [],
   "source": [
    "def compute_BatchGD(X,Y,W,b,iterations,learning_rate):\n",
    "    # X is the input matrix of shape (m,n) where \n",
    "    # m = total number of samples and n = number of features\n",
    "    # Y is the array of data labels of shape (m,)\n",
    "    # W is the array of shape (n,)\n",
    "    # iterations is the number of epochs for training\n",
    "    # learning_rate is the speed at which we will be training\n",
    "    n=W.shape[0]\n",
    "    J_hist=[]\n",
    "    alpha=learning_rate\n",
    "    for i in range(iterations):\n",
    "        dj_dw,dj_db=compute_gradient(X,Y,W,b)\n",
    "        for j in range(n):\n",
    "            W[j]=W[j]-alpha*dj_dw[j]\n",
    "        b=b-alpha*dj_db\n",
    "        J_hist.append(compute_cost(X,Y,W,b))\n",
    "        if (i+1)%100==0:\n",
    "            print(f'iteration: {i+1}, cost function: {J_hist[-1]}')\n",
    "    return W,b,J_hist   "
   ]
  },
  {
   "cell_type": "code",
   "execution_count": 29,
   "id": "f7a77bbf-35d0-41fe-9ea5-1b950cac1e33",
   "metadata": {},
   "outputs": [
    {
     "name": "stdout",
     "output_type": "stream",
     "text": [
      "iteration: 100, cost function: 0.20851363947047566\n",
      "iteration: 200, cost function: 0.09058945936876625\n",
      "iteration: 300, cost function: 0.08054882817821647\n",
      "iteration: 400, cost function: 0.07328900835552919\n",
      "iteration: 500, cost function: 0.06767396893857026\n",
      "iteration: 600, cost function: 0.06313470055677922\n",
      "iteration: 700, cost function: 0.05934891831725741\n",
      "iteration: 800, cost function: 0.05611778425375797\n",
      "iteration: 900, cost function: 0.053310626128369364\n",
      "iteration: 1000, cost function: 0.050837289314327135\n",
      "iteration: 1100, cost function: 0.04863312258127015\n",
      "iteration: 1200, cost function: 0.04665028140084723\n",
      "iteration: 1300, cost function: 0.044852421597931035\n",
      "iteration: 1400, cost function: 0.04321131975837154\n",
      "iteration: 1500, cost function: 0.041704641864641255\n",
      "iteration: 1600, cost function: 0.040314424145220094\n",
      "iteration: 1700, cost function: 0.039026011070198055\n",
      "iteration: 1800, cost function: 0.037827295594098254\n",
      "iteration: 1900, cost function: 0.03670816447505541\n",
      "iteration: 2000, cost function: 0.035660085954426726\n"
     ]
    }
   ],
   "source": [
    "iterations=2000\n",
    "alpha=1\n",
    "W_final,b_final,J_rec=compute_BatchGD(X.reshape(-1,1),Y,W,b,iterations,alpha)"
   ]
  },
  {
   "cell_type": "markdown",
   "id": "d93f822d-2136-454b-a7d1-2914dd6c3187",
   "metadata": {},
   "source": [
    "We can see the cost function converging to ~0.69315"
   ]
  },
  {
   "cell_type": "code",
   "execution_count": 30,
   "id": "a8c6546c-058c-40e3-b791-be54debf7e2f",
   "metadata": {},
   "outputs": [
    {
     "data": {
      "text/plain": [
       "(array([3.36191973], dtype=float64), -18.37780378668221)"
      ]
     },
     "execution_count": 30,
     "metadata": {},
     "output_type": "execute_result"
    }
   ],
   "source": [
    "W_final,b_final"
   ]
  },
  {
   "cell_type": "markdown",
   "id": "3fc0b380-31f9-4523-b76b-fe1cc6bc35e2",
   "metadata": {},
   "source": [
    "## Lets do some plotting:<span style='color:red; font-weight:bold;'> \"Using Matplotlib.pyplot\"</span>"
   ]
  },
  {
   "cell_type": "code",
   "execution_count": 31,
   "id": "afbc2f62-3675-4fad-b4a3-f27b0155d5df",
   "metadata": {},
   "outputs": [],
   "source": [
    "import numpy as np\n",
    "\n",
    "# Features (X): single feature per sample\n",
    "X = np.array([1, 2, 3, 4, 5, 6, 7, 8, 9, 10], dtype=np.longdouble)\n",
    "\n",
    "# Labels (Y): 0 for low values, 1 for high values\n",
    "Y = np.array([0, 0, 0, 0, 0, 1, 1, 1, 1, 1], dtype=np.longdouble)\n",
    "\n",
    "# Reshape X to (m, n) format\n",
    "X = X.reshape(-1, 1)\n",
    "\n",
    "# Initial weights and bias\n",
    "W = np.array([0.0], dtype=np.longdouble)\n",
    "b = 0.0\n",
    "\n",
    "# Training settings\n",
    "iterations = 1000\n",
    "alpha = 0.1\n"
   ]
  },
  {
   "cell_type": "code",
   "execution_count": 32,
   "id": "1e24522a-9fb2-4f3d-8945-a5f962371a6d",
   "metadata": {},
   "outputs": [
    {
     "name": "stdout",
     "output_type": "stream",
     "text": [
      "iteration: 100, cost function: 0.40028566864297027\n",
      "iteration: 200, cost function: 0.3080090398832739\n",
      "iteration: 300, cost function: 0.25814638948234386\n",
      "iteration: 400, cost function: 0.22677737332064735\n",
      "iteration: 500, cost function: 0.20499121816682045\n",
      "iteration: 600, cost function: 0.1888136724273802\n",
      "iteration: 700, cost function: 0.17621618869834685\n",
      "iteration: 800, cost function: 0.16605489348898053\n",
      "iteration: 900, cost function: 0.15763428679641775\n",
      "iteration: 1000, cost function: 0.15050597087714715\n"
     ]
    }
   ],
   "source": [
    "W_final,b_final,J_rec=compute_BatchGD(X.reshape(-1,1),Y,W,b,iterations,alpha)"
   ]
  },
  {
   "cell_type": "code",
   "execution_count": 33,
   "id": "ccc00199-f115-4bf3-a9e8-a1fc85731a76",
   "metadata": {},
   "outputs": [
    {
     "data": {
      "image/png": "[encoded data removed]",
      "text/plain": [
       "<Figure size 640x480 with 1 Axes>"
      ]
     },
     "metadata": {},
     "output_type": "display_data"
    }
   ],
   "source": [
    "plt.scatter(X,Y,c=Y,cmap='plasma')\n",
    "x=np.arange(0,12)\n",
    "z=W_final[0]*x+b_final\n",
    "y_hat=g(z)\n",
    "plt.plot(x,y_hat)\n",
    "plt.xlabel('X')\n",
    "plt.ylabel('Y')\n",
    "plt.show()"
   ]
  },
  {
   "cell_type": "code",
   "execution_count": 35,
   "id": "4426b674-4622-438d-b024-4c6bd1694604",
   "metadata": {},
   "outputs": [
    {
     "data": {
      "text/plain": [
       "(1.0799253477274582, -5.664117744397139)"
      ]
     },
     "execution_count": 35,
     "metadata": {},
     "output_type": "execute_result"
    }
   ],
   "source": [
    "W_final[0],b_final"
   ]
  },
  {
   "cell_type": "markdown",
   "id": "4dea7f06-3b74-4d1d-a1b5-b0ceb7a2c81b",
   "metadata": {},
   "source": [
    "### In the next turtorial we will be training coffee data on this model. Thanks"
   ]
  },
  {
   "cell_type": "code",
   "execution_count": null,
   "id": "c5d0cf98-4abd-4c53-a3f8-a62adad4165a",
   "metadata": {},
   "outputs": [],
   "source": []
  },
  {
   "cell_type": "code",
   "execution_count": null,
   "id": "e7e92299-1ed3-4b6f-b7b7-048271d68390",
   "metadata": {},
   "outputs": [],
   "source": []
  }
 ],
 "metadata": {
  "kernelspec": {
   "display_name": "Python 3 (ipykernel)",
   "language": "python",
   "name": "python3"
  },
  "language_info": {
   "codemirror_mode": {
    "name": "ipython",
    "version": 3
   },
   "file_extension": ".py",
   "mimetype": "text/x-python",
   "name": "python",
   "nbconvert_exporter": "python",
   "pygments_lexer": "ipython3",
   "version": "3.8.20"
  }
 },
 "nbformat": 4,
 "nbformat_minor": 5
}

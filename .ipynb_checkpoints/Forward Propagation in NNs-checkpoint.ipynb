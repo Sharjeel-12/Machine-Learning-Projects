{
 "cells": [
  {
   "cell_type": "markdown",
   "id": "f2fe98a9-72b1-499f-9526-582eecdccf9f",
   "metadata": {},
   "source": [
    "# Forward Propagation in NNs: Building our own neurons and layers from scratch"
   ]
  },
  {
   "cell_type": "code",
   "execution_count": 1,
   "id": "a17eb71e-cae6-4a9a-8751-c7c12c6fd3c9",
   "metadata": {},
   "outputs": [],
   "source": [
    "import numpy as np\n",
    "import matplotlib.pyplot as plt\n",
    "%matplotlib inline"
   ]
  },
  {
   "cell_type": "code",
   "execution_count": 2,
   "id": "c96e2a7a-bc68-453e-b66c-f59a86d5fdd3",
   "metadata": {},
   "outputs": [],
   "source": [
    "def sigmoid(z):\n",
    "    return 1/(1+np.exp(-z))"
   ]
  },
  {
   "cell_type": "markdown",
   "id": "99bb1e34-e568-4559-bbd6-6735be0ece97",
   "metadata": {},
   "source": [
    "## We have created our own layer function that generates a layer of NNs"
   ]
  },
  {
   "cell_type": "code",
   "execution_count": 26,
   "id": "76f2d96f-c210-457a-af3a-6fdd447aaae3",
   "metadata": {},
   "outputs": [],
   "source": [
    "# takes the activation input as n by 1 array\n",
    "# n is the number of input values in the activation array\n",
    "def dense(a_prev,units,W=None,b=None):\n",
    "    n_features=a_prev.shape[1]\n",
    "    if W is None:\n",
    "        W=np.random.uniform(-1,1,(n_features,units))\n",
    "    if b is None:\n",
    "        b=np.zeros((units,1))\n",
    "    a_next=sigmoid(np.dot(a_prev,W).T+b)\n",
    "    return a_next,W,b"
   ]
  },
  {
   "cell_type": "markdown",
   "id": "8617bf18-5867-49c8-b7c6-6cc2bc8524f2",
   "metadata": {},
   "source": [
    "### Without initializing the weights"
   ]
  },
  {
   "cell_type": "code",
   "execution_count": 27,
   "id": "e7304f26-d4a3-41ec-a2f3-61d1a7f283c1",
   "metadata": {},
   "outputs": [
    {
     "data": {
      "text/plain": [
       "(array([[-0.36353566, -0.52185771,  0.43599814, -0.76147485, -0.69306608],\n",
       "        [ 0.0371849 ,  0.11713155, -0.24735898, -0.02941335,  0.65357101]]),\n",
       " array([[0.],\n",
       "        [0.],\n",
       "        [0.],\n",
       "        [0.],\n",
       "        [0.]]))"
      ]
     },
     "execution_count": 27,
     "metadata": {},
     "output_type": "execute_result"
    }
   ],
   "source": [
    "units=5\n",
    "X=np.array([[1,3]])\n",
    "a,W,b=dense(X,units)\n",
    "W,b"
   ]
  },
  {
   "cell_type": "markdown",
   "id": "d2d3e141-bb12-41b7-bc5b-15c371e2579e",
   "metadata": {},
   "source": [
    "<p style=\"color:red\">the weight matrix W has order 2 by 5, which means that for 2 features (no.of rows), the 5 units (no. of cols) have the following weights</p>"
   ]
  },
  {
   "cell_type": "markdown",
   "id": "094e2edd-5bd3-44c6-88b1-733073d48fd7",
   "metadata": {},
   "source": [
    "### Layer's Output (equals the number of artificial neurons)"
   ]
  },
  {
   "cell_type": "code",
   "execution_count": 28,
   "id": "0dd2066a-1dec-43e2-9bff-dd43479a2235",
   "metadata": {},
   "outputs": [
    {
     "data": {
      "text/plain": [
       "array([[0.43733598],\n",
       "       [0.45748712],\n",
       "       [0.42407215],\n",
       "       [0.29949267],\n",
       "       [0.78033968]])"
      ]
     },
     "execution_count": 28,
     "metadata": {},
     "output_type": "execute_result"
    }
   ],
   "source": [
    "a"
   ]
  },
  {
   "cell_type": "markdown",
   "id": "0e7da356-0599-4609-a8e3-b5749db36703",
   "metadata": {},
   "source": [
    "Let's Initialize our own weights `W_init` and `b_init`"
   ]
  },
  {
   "cell_type": "code",
   "execution_count": 29,
   "id": "bba5b8c6-3e84-4aa3-a0da-cd486fff6bb0",
   "metadata": {},
   "outputs": [],
   "source": [
    "W_init=np.array([[-0.07789381,  0.67883718, -0.16051413,  0.17513718, -0.34153192],\n",
    "        [ 0.09724922,  0.92162943,  0.00352268,  0.27229178, -0.27476866]])\n",
    "b_init=np.array([[1,1,1,1,1]]).reshape(-1,1)"
   ]
  },
  {
   "cell_type": "code",
   "execution_count": 30,
   "id": "530079b9-798f-46d5-ad7a-8d6bd28d8768",
   "metadata": {},
   "outputs": [],
   "source": [
    "a,W,b=dense(X,units,W_init,b_init)"
   ]
  },
  {
   "cell_type": "code",
   "execution_count": 31,
   "id": "82ce77a4-1eb3-4dbe-a602-12fd9db17b1d",
   "metadata": {},
   "outputs": [
    {
     "data": {
      "text/plain": [
       "(array([[-0.07789381,  0.67883718, -0.16051413,  0.17513718, -0.34153192],\n",
       "        [ 0.09724922,  0.92162943,  0.00352268,  0.27229178, -0.27476866]]),\n",
       " array([[1],\n",
       "        [1],\n",
       "        [1],\n",
       "        [1],\n",
       "        [1]]))"
      ]
     },
     "execution_count": 31,
     "metadata": {},
     "output_type": "execute_result"
    }
   ],
   "source": [
    "W,b"
   ]
  },
  {
   "cell_type": "markdown",
   "id": "14d6a14d-461c-4e25-ac1a-c7b1ee2f97a0",
   "metadata": {},
   "source": [
    "## The output has now changed"
   ]
  },
  {
   "cell_type": "code",
   "execution_count": 32,
   "id": "9e7dbab5-28af-40a6-81b2-185ad15f60b2",
   "metadata": {},
   "outputs": [
    {
     "data": {
      "text/plain": [
       "array([[0.77098013],\n",
       "       [0.98838443],\n",
       "       [0.70057845],\n",
       "       [0.87995589],\n",
       "       [0.45863528]])"
      ]
     },
     "execution_count": 32,
     "metadata": {},
     "output_type": "execute_result"
    }
   ],
   "source": [
    "a"
   ]
  }
 ],
 "metadata": {
  "kernelspec": {
   "display_name": "Python 3 (ipykernel)",
   "language": "python",
   "name": "python3"
  },
  "language_info": {
   "codemirror_mode": {
    "name": "ipython",
    "version": 3
   },
   "file_extension": ".py",
   "mimetype": "text/x-python",
   "name": "python",
   "nbconvert_exporter": "python",
   "pygments_lexer": "ipython3",
   "version": "3.8.20"
  }
 },
 "nbformat": 4,
 "nbformat_minor": 5
}

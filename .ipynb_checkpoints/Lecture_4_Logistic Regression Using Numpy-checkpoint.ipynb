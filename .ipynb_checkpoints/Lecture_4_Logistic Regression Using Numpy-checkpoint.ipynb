{
 "cells": [
  {
   "cell_type": "markdown",
   "id": "b1c91e99-3131-475f-8e40-76fc0d30e830",
   "metadata": {},
   "source": [
    "# Logistic Regression for a Single Feature"
   ]
  },
  {
   "cell_type": "markdown",
   "id": "adb4413f-3c4f-4361-8f9e-4f2cb0dfeff9",
   "metadata": {},
   "source": [
    "### Importing the Regelvant packages"
   ]
  },
  {
   "cell_type": "code",
   "execution_count": 1,
   "id": "8e98bf46-81dc-4dbf-9425-98814d63cec3",
   "metadata": {},
   "outputs": [],
   "source": [
    "import numpy as np\n",
    "import matplotlib.pyplot as plt\n",
    "%matplotlib inline"
   ]
  },
  {
   "cell_type": "code",
   "execution_count": 2,
   "id": "49918969-00f7-4da9-9512-5faee47d5088",
   "metadata": {},
   "outputs": [],
   "source": [
    "x_train = np.array([0., 1, 2, 3, 4, 5],dtype=np.longdouble)\n",
    "y_train = np.array([0,  0, 0, 1, 1, 1],dtype=np.longdouble)"
   ]
  },
  {
   "cell_type": "code",
   "execution_count": 3,
   "id": "75d47c90-ed0b-4413-94ae-aa1b0536f7e0",
   "metadata": {},
   "outputs": [
    {
     "data": {
      "image/png": "[encoded data removed]",
      "text/plain": [
       "<Figure size 640x480 with 1 Axes>"
      ]
     },
     "metadata": {},
     "output_type": "display_data"
    }
   ],
   "source": [
    "plt.scatter(x_train,y_train,c=y_train,cmap='rainbow')\n",
    "plt.show()"
   ]
  },
  {
   "cell_type": "markdown",
   "id": "ad7d3649-09ff-46c7-a929-8a5740d85115",
   "metadata": {},
   "source": [
    "## Lets first define the sigmoid function"
   ]
  },
  {
   "cell_type": "code",
   "execution_count": 4,
   "id": "ee7ba790-621b-4382-b801-0a3ee47d41d4",
   "metadata": {},
   "outputs": [],
   "source": [
    "def sigmoid(z):\n",
    "    y=1/(1+np.exp(-1*(z)))\n",
    "    return y"
   ]
  },
  {
   "cell_type": "markdown",
   "id": "100cd34c-df28-42bb-b261-bff4e54d1e2a",
   "metadata": {},
   "source": [
    "## Writing the cost Function of Logistic Regression in case of single variable"
   ]
  },
  {
   "cell_type": "code",
   "execution_count": 5,
   "id": "039a35fd-0c43-48a7-aec2-2ea48e958c64",
   "metadata": {},
   "outputs": [],
   "source": [
    "def compute_cost(x,y,w,b):\n",
    "    m=x.shape[0]\n",
    "    cost=0\n",
    "    for i in range(m):\n",
    "        f_wb=sigmoid(w*x[i]+b)\n",
    "        c=y[i]*np.log(f_wb)+(1-y[i])*np.log(1-f_wb)\n",
    "        cost=cost+(-1/m)*c\n",
    "    return cost"
   ]
  },
  {
   "cell_type": "code",
   "execution_count": 6,
   "id": "4613d61d-a643-4256-beb1-a3bf298a09af",
   "metadata": {},
   "outputs": [
    {
     "data": {
      "text/plain": [
       "1.0860196686132662"
      ]
     },
     "execution_count": 6,
     "metadata": {},
     "output_type": "execute_result"
    }
   ],
   "source": [
    "compute_cost(x_train,y_train,1,1)"
   ]
  },
  {
   "cell_type": "markdown",
   "id": "13b761bf-6c81-4274-92f5-2afafdd6e72f",
   "metadata": {},
   "source": [
    "## Writing the compute gradient function for the Logistic Regression"
   ]
  },
  {
   "cell_type": "code",
   "execution_count": 7,
   "id": "600aa649-0e34-447f-8300-3b1e29736a68",
   "metadata": {},
   "outputs": [],
   "source": [
    "def compute_grad(x,y,w,b):\n",
    "    m=x.shape[0]\n",
    "    dj_dw=0\n",
    "    dj_db=0\n",
    "    for i in range(m):\n",
    "        f_wb=sigmoid(w*x[i]+b)\n",
    "        delta=f_wb-y[i]\n",
    "        dj_dw=dj_dw+(1/m)*delta*x[i]\n",
    "        dj_db=dj_db+(1/m)*delta\n",
    "    return dj_dw,dj_db"
   ]
  },
  {
   "cell_type": "code",
   "execution_count": 8,
   "id": "1303a028-593f-4eec-9312-16987170f2c2",
   "metadata": {},
   "outputs": [
    {
     "data": {
      "text/plain": [
       "(0.44880869704269366, 0.4228796832312182)"
      ]
     },
     "execution_count": 8,
     "metadata": {},
     "output_type": "execute_result"
    }
   ],
   "source": [
    "compute_grad(x_train,y_train,1,1)"
   ]
  },
  {
   "cell_type": "markdown",
   "id": "94399b2a-1bf1-4b10-96d5-b9b44a77e631",
   "metadata": {},
   "source": [
    "## Writing a function to compute gradient descent"
   ]
  },
  {
   "cell_type": "code",
   "execution_count": 9,
   "id": "8bb8aaa2-1f4d-46ca-958a-449fe00f3674",
   "metadata": {},
   "outputs": [],
   "source": [
    "def compute_gradientDescent(x,y,w,b,iterations,alpha):\n",
    "    m=x.shape[0]\n",
    "    J_hist=[]\n",
    "    weights=[]\n",
    "    bias=[]\n",
    "    for i in range(iterations):\n",
    "        dj_dw,dj_db=compute_grad(x,y,w,b)\n",
    "        w=w-alpha*dj_dw\n",
    "        b=b-alpha*dj_db\n",
    "        weights.append(w)\n",
    "        bias.append(b)\n",
    "        J_hist.append(compute_cost(x,y,w,b))\n",
    "        if (i+1)%100==0:\n",
    "            print('Iteration: {0}, cost: {1}'.format(i+1,J_hist[-1]))\n",
    "    return w,b,J_hist,weights,bias"
   ]
  },
  {
   "cell_type": "code",
   "execution_count": 36,
   "id": "59998fc4-db8f-45bd-9ad6-c529d0d0fee2",
   "metadata": {},
   "outputs": [
    {
     "name": "stdout",
     "output_type": "stream",
     "text": [
      "Iteration: 100, cost: 0.6292451057654767\n",
      "Iteration: 200, cost: 0.5326389612265812\n",
      "Iteration: 300, cost: 0.4674231177541862\n",
      "Iteration: 400, cost: 0.4171830117283458\n",
      "Iteration: 500, cost: 0.3778404773163624\n",
      "Iteration: 600, cost: 0.34645561969484717\n",
      "Iteration: 700, cost: 0.3209482185787385\n",
      "Iteration: 800, cost: 0.29985196832945654\n",
      "Iteration: 900, cost: 0.28212502307741\n",
      "Iteration: 1000, cost: 0.2670169078969276\n"
     ]
    }
   ],
   "source": [
    "w_init=1\n",
    "b_int=1\n",
    "iterations=1000\n",
    "alpha=0.02\n",
    "w_final,b_final,J_hist,w_record,b_record=compute_gradientDescent(x_train,y_train,w_init,b_int,iterations,alpha)"
   ]
  },
  {
   "cell_type": "code",
   "execution_count": 37,
   "id": "b0043b17-26c2-441f-b492-c9a1952b0323",
   "metadata": {},
   "outputs": [
    {
     "data": {
      "image/png": "[encoded data removed]",
      "text/plain": [
       "<Figure size 640x480 with 1 Axes>"
      ]
     },
     "metadata": {},
     "output_type": "display_data"
    }
   ],
   "source": [
    "pred_vals=sigmoid(w_final*x_train+b_final)\n",
    "plt.scatter(x_train,y_train,c=y_train,cmap='rainbow')\n",
    "plt.plot(x_train,pred_vals)\n",
    "plt.show()"
   ]
  },
  {
   "cell_type": "code",
   "execution_count": null,
   "id": "d12ba04a-7518-4699-8cf2-29f04f2a703d",
   "metadata": {},
   "outputs": [],
   "source": []
  }
 ],
 "metadata": {
  "kernelspec": {
   "display_name": "Python 3 (ipykernel)",
   "language": "python",
   "name": "python3"
  },
  "language_info": {
   "codemirror_mode": {
    "name": "ipython",
    "version": 3
   },
   "file_extension": ".py",
   "mimetype": "text/x-python",
   "name": "python",
   "nbconvert_exporter": "python",
   "pygments_lexer": "ipython3",
   "version": "3.12.7"
  }
 },
 "nbformat": 4,
 "nbformat_minor": 5
}

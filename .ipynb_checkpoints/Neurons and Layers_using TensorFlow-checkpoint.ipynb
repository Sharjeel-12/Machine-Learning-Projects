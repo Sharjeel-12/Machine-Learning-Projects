{
 "cells": [
  {
   "cell_type": "markdown",
   "id": "35d1a460-34d0-44dd-a3ba-bccfa2d93112",
   "metadata": {},
   "source": [
    "## Importing the relevant packages"
   ]
  },
  {
   "cell_type": "code",
   "execution_count": 1,
   "id": "61ccb923-b981-4229-9ced-a67597f90d43",
   "metadata": {},
   "outputs": [],
   "source": [
    "import tensorflow as tf\n",
    "import numpy as np\n",
    "import matplotlib.pyplot as plt\n",
    "%matplotlib inline\n"
   ]
  },
  {
   "cell_type": "code",
   "execution_count": 2,
   "id": "ee83cfd8-4425-400c-a3d4-a72be847cd9c",
   "metadata": {},
   "outputs": [
    {
     "name": "stdout",
     "output_type": "stream",
     "text": [
      "2.3.0\n"
     ]
    }
   ],
   "source": [
    "print(tf.__version__)"
   ]
  },
  {
   "cell_type": "code",
   "execution_count": 3,
   "id": "fbebc324-71e9-46f3-883b-96aa2a03d8f7",
   "metadata": {},
   "outputs": [],
   "source": [
    "X_train = np.array([[1.0], [2.0]], dtype=np.float32)           #(size in 1000 square feet)\n",
    "Y_train = np.array([[300.0], [500.0]], dtype=np.float32)       #(price in 1000s of dollars)"
   ]
  },
  {
   "cell_type": "code",
   "execution_count": 4,
   "id": "a6a7d0ec-9c60-4509-b44e-f1518d75ade9",
   "metadata": {},
   "outputs": [
    {
     "data": {
      "image/png": "[encoded data removed]",
      "text/plain": [
       "<Figure size 640x480 with 1 Axes>"
      ]
     },
     "metadata": {},
     "output_type": "display_data"
    }
   ],
   "source": [
    "plt.scatter(X_train,Y_train,marker='x',c='red',s=200)\n",
    "plt.show()"
   ]
  },
  {
   "cell_type": "markdown",
   "id": "cbf004fa-404e-400e-ac88-676935a01fed",
   "metadata": {},
   "source": [
    "## Let's create a layer with single artificial neuron"
   ]
  },
  {
   "cell_type": "code",
   "execution_count": 5,
   "id": "27efe1bb-2492-4ade-9d48-172f4197682a",
   "metadata": {},
   "outputs": [
    {
     "data": {
      "text/plain": [
       "[]"
      ]
     },
     "execution_count": 5,
     "metadata": {},
     "output_type": "execute_result"
    }
   ],
   "source": [
    "linear_layer=tf.keras.layers.Dense(units=1,activation='linear',)\n",
    "linear_layer.get_weights()"
   ]
  },
  {
   "cell_type": "markdown",
   "id": "ad9bb3c0-9c06-4e28-89ee-655f33a75774",
   "metadata": {},
   "source": [
    "initially the weights are not assigned at all so we get `[]`"
   ]
  },
  {
   "cell_type": "code",
   "execution_count": 6,
   "id": "71d58f0f-596a-47fa-bfcd-6647c8fa3393",
   "metadata": {},
   "outputs": [
    {
     "data": {
      "text/plain": [
       "array([[1.]], dtype=float32)"
      ]
     },
     "execution_count": 6,
     "metadata": {},
     "output_type": "execute_result"
    }
   ],
   "source": [
    "X_train[0].reshape(-1,1)"
   ]
  },
  {
   "cell_type": "markdown",
   "id": "8c76dd88-c48b-40ce-a9e2-36eeda9fd6ef",
   "metadata": {},
   "source": [
    "### When we input some value to the neuron, the weight and bias gets assigned randomly"
   ]
  },
  {
   "cell_type": "code",
   "execution_count": 7,
   "id": "6b63a3a6-617f-4ac8-9c41-3d85a565bc29",
   "metadata": {},
   "outputs": [],
   "source": [
    "a_1=linear_layer(X_train[0].reshape(-1,1))"
   ]
  },
  {
   "cell_type": "code",
   "execution_count": 8,
   "id": "16621aa8-4412-48b7-a84f-88b7542702df",
   "metadata": {},
   "outputs": [
    {
     "name": "stdout",
     "output_type": "stream",
     "text": [
      "tf.Tensor([[-1.3024875]], shape=(1, 1), dtype=float32)\n"
     ]
    }
   ],
   "source": [
    "print(a_1)"
   ]
  },
  {
   "cell_type": "code",
   "execution_count": 9,
   "id": "bdea3c3c-c8bb-400d-bd08-d86ca8374083",
   "metadata": {},
   "outputs": [
    {
     "data": {
      "text/plain": [
       "[array([[-1.3024875]], dtype=float32), array([0.], dtype=float32)]"
      ]
     },
     "execution_count": 9,
     "metadata": {},
     "output_type": "execute_result"
    }
   ],
   "source": [
    "linear_layer.get_weights()"
   ]
  },
  {
   "cell_type": "code",
   "execution_count": 10,
   "id": "970554fa-086b-4733-8a3b-458a8730217d",
   "metadata": {},
   "outputs": [],
   "source": [
    "w_init=np.array([[200]])\n",
    "b_init=np.array([100])\n",
    "linear_layer.set_weights([w_init,b_init])"
   ]
  },
  {
   "cell_type": "code",
   "execution_count": 11,
   "id": "85405ee6-6681-4ac3-b6ef-84c5508ac9be",
   "metadata": {},
   "outputs": [
    {
     "data": {
      "text/plain": [
       "[array([[200.]], dtype=float32), array([100.], dtype=float32)]"
      ]
     },
     "execution_count": 11,
     "metadata": {},
     "output_type": "execute_result"
    }
   ],
   "source": [
    "linear_layer.get_weights()"
   ]
  },
  {
   "cell_type": "code",
   "execution_count": 12,
   "id": "9c7d47c2-094e-492b-98fd-321b4ebad8f5",
   "metadata": {},
   "outputs": [],
   "source": [
    "a_1=linear_layer(X_train[0].reshape(-1,1))"
   ]
  },
  {
   "cell_type": "markdown",
   "id": "26e6846c-dad8-4d3e-991a-a30604de4bb8",
   "metadata": {},
   "source": [
    "### `a_1` is the output of the single artificial neuron"
   ]
  },
  {
   "cell_type": "code",
   "execution_count": 13,
   "id": "6b9a0b79-cf68-4f01-9ac6-700344ce174a",
   "metadata": {},
   "outputs": [
    {
     "data": {
      "text/plain": [
       "<tf.Tensor: shape=(1, 1), dtype=float32, numpy=array([[300.]], dtype=float32)>"
      ]
     },
     "execution_count": 13,
     "metadata": {},
     "output_type": "execute_result"
    }
   ],
   "source": [
    "a_1"
   ]
  },
  {
   "cell_type": "markdown",
   "id": "fb090261-ae0c-4307-8058-e76f746c3f95",
   "metadata": {},
   "source": [
    "## Let's verify the results using numpy"
   ]
  },
  {
   "cell_type": "code",
   "execution_count": 14,
   "id": "5a090f2a-2b9f-44b2-9080-6dd123014f86",
   "metadata": {},
   "outputs": [
    {
     "data": {
      "text/plain": [
       "array([[300.]])"
      ]
     },
     "execution_count": 14,
     "metadata": {},
     "output_type": "execute_result"
    }
   ],
   "source": [
    "a_1_np=np.dot(X_train[0].reshape(-1,1),w_init)+b_init\n",
    "a_1_np"
   ]
  },
  {
   "cell_type": "markdown",
   "id": "b9800960-8abd-47df-931b-de9330843814",
   "metadata": {},
   "source": [
    "## Let's have some new fresh training data for more practice"
   ]
  },
  {
   "cell_type": "code",
   "execution_count": 15,
   "id": "4418dcae-7b7e-4a70-8034-47e9d9c2d16c",
   "metadata": {},
   "outputs": [],
   "source": [
    "X_train = np.array([0., 1, 2, 3, 4, 5], dtype=np.float32).reshape(-1,1)  # 2-D Matrix\n",
    "Y_train = np.array([0,  0, 0, 1, 1, 1], dtype=np.float32).reshape(-1,1)  # 2-D Matrix"
   ]
  },
  {
   "cell_type": "code",
   "execution_count": 25,
   "id": "4077d109-082d-4677-8185-256fd34bd9f7",
   "metadata": {},
   "outputs": [],
   "source": [
    "logistic_model=tf.keras.Sequential([\n",
    "    tf.keras.layers.Input(shape=(1,)),\n",
    "tf.keras.layers.Dense(units=1,activation='sigmoid',name='layer1')    \n",
    "])"
   ]
  },
  {
   "cell_type": "code",
   "execution_count": 26,
   "id": "7f5f801d-b1dc-4500-b3b0-7598ee6107cd",
   "metadata": {},
   "outputs": [
    {
     "data": {
      "text/plain": [
       "[array([[-1.1355095]], dtype=float32), array([0.], dtype=float32)]"
      ]
     },
     "execution_count": 26,
     "metadata": {},
     "output_type": "execute_result"
    }
   ],
   "source": [
    "logistic_model.get_layer('layer1').get_weights()"
   ]
  },
  {
   "cell_type": "code",
   "execution_count": 27,
   "id": "3c5bb0b9-bb94-4742-9191-175eec5e8bc4",
   "metadata": {},
   "outputs": [],
   "source": [
    "set_w = np.array([[2]])\n",
    "set_b = np.array([-4.5])\n",
    "logistic_model.get_layer('layer1').set_weights([set_w,set_b])"
   ]
  },
  {
   "cell_type": "code",
   "execution_count": 28,
   "id": "cd0b4a7e-5fbf-40a7-baec-f0e8422a1935",
   "metadata": {},
   "outputs": [
    {
     "data": {
      "text/plain": [
       "[array([[2.]], dtype=float32), array([-4.5], dtype=float32)]"
      ]
     },
     "execution_count": 28,
     "metadata": {},
     "output_type": "execute_result"
    }
   ],
   "source": [
    "logistic_model.get_weights()"
   ]
  },
  {
   "cell_type": "code",
   "execution_count": 29,
   "id": "38d30e5d-eff6-4b91-921f-f49c7da44118",
   "metadata": {},
   "outputs": [],
   "source": [
    "m=logistic_model.predict(X_train).shape[0]\n",
    "preds=logistic_model.predict(X_train).reshape(m,)"
   ]
  },
  {
   "cell_type": "code",
   "execution_count": 30,
   "id": "7f51731c-566f-411e-8785-1427304a98dd",
   "metadata": {},
   "outputs": [],
   "source": [
    "preds\n",
    "m_actual=Y_train.shape[0]\n",
    "Y_train=Y_train.reshape(m_actual)"
   ]
  },
  {
   "cell_type": "code",
   "execution_count": 31,
   "id": "bc2d827d-0a56-4f91-ad46-72714937d4c1",
   "metadata": {},
   "outputs": [
    {
     "data": {
      "text/plain": [
       "array([[3., 0.],\n",
       "       [0., 3.]])"
      ]
     },
     "execution_count": 31,
     "metadata": {},
     "output_type": "execute_result"
    }
   ],
   "source": [
    "np.histogram2d(Y_train,preds,bins=[0,0.5,1])[0]"
   ]
  },
  {
   "cell_type": "code",
   "execution_count": 33,
   "id": "b624a585-9f3c-4ee9-8c8e-bec541b54b6d",
   "metadata": {},
   "outputs": [
    {
     "data": {
      "text/plain": [
       "<matplotlib.collections.PathCollection at 0x2a237c3a160>"
      ]
     },
     "execution_count": 33,
     "metadata": {},
     "output_type": "execute_result"
    },
    {
     "data": {
      "image/png": "[encoded data removed]",
      "text/plain": [
       "<Figure size 640x480 with 1 Axes>"
      ]
     },
     "metadata": {},
     "output_type": "display_data"
    }
   ],
   "source": [
    "plt.scatter(X_train,Y_train,c=Y_train,cmap='viridis')"
   ]
  },
  {
   "cell_type": "code",
   "execution_count": null,
   "id": "37febb4a-6556-4f2e-b36f-b9a3f347b6b2",
   "metadata": {},
   "outputs": [],
   "source": []
  }
 ],
 "metadata": {
  "kernelspec": {
   "display_name": "Python 3 (ipykernel)",
   "language": "python",
   "name": "python3"
  },
  "language_info": {
   "codemirror_mode": {
    "name": "ipython",
    "version": 3
   },
   "file_extension": ".py",
   "mimetype": "text/x-python",
   "name": "python",
   "nbconvert_exporter": "python",
   "pygments_lexer": "ipython3",
   "version": "3.8.20"
  }
 },
 "nbformat": 4,
 "nbformat_minor": 5
}

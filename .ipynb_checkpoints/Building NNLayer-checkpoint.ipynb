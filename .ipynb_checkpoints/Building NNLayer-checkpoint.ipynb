{
 "cells": [
  {
   "cell_type": "markdown",
   "id": "e04dacf9-2615-454f-95d2-f364d71a7cb2",
   "metadata": {},
   "source": [
    "# Importing Relevant Packages"
   ]
  },
  {
   "cell_type": "code",
   "execution_count": 1,
   "id": "db585460-4096-4e7d-806a-7e3c3f8afeb3",
   "metadata": {},
   "outputs": [],
   "source": [
    "import numpy as np\n",
    "import tensorflow as tf\n",
    "import matplotlib.pyplot as plt\n",
    "%matplotlib inline"
   ]
  },
  {
   "cell_type": "markdown",
   "id": "617299a7-5f1b-4824-9200-36735e441227",
   "metadata": {},
   "source": [
    "## Writing a function for creating a NN layer: `createNNLayer(units,W=None,b=None)`"
   ]
  },
  {
   "cell_type": "markdown",
   "id": "35ce15f2-2d6c-4dd4-8c69-bb0518053e21",
   "metadata": {},
   "source": [
    "The code will be non-vectorized as the vectorized version has already been covered"
   ]
  },
  {
   "cell_type": "code",
   "execution_count": 2,
   "id": "92699a6b-b3d3-4f53-84e5-e09799791780",
   "metadata": {},
   "outputs": [],
   "source": [
    "def g(z):\n",
    "    return 1/(1+np.exp(-z))"
   ]
  },
  {
   "cell_type": "code",
   "execution_count": 3,
   "id": "4a35f92b-65ce-4e7a-b740-57684ee46223",
   "metadata": {},
   "outputs": [],
   "source": [
    "\n",
    "def createNNLayer(a,units,W=None,b=None):\n",
    "    # a is a nd array of order m by n\n",
    "    # m is no. of iterations\n",
    "    # n is no. of features\n",
    "    # W has a shape n by units\n",
    "    # a_out has a shape of m by units \n",
    "    # for every reading i the a_out has columns showing the neuron values\n",
    "    m,n=a.shape\n",
    "    a_out=np.zeros((m,units))\n",
    "    if W is None:\n",
    "        W=np.random.uniform(-1,1,(n,units))\n",
    "    if b is None:\n",
    "        b=np.random.uniform(-1,1,(units,1))\n",
    "    for i in range(m):\n",
    "        for j in range(units):\n",
    "            a_out[i][j]=g(np.dot(W[:,j],a[i,:])+b[j,0])\n",
    "    return a_out"
   ]
  },
  {
   "cell_type": "code",
   "execution_count": 4,
   "id": "64ca3858-b432-4d80-a512-3ff12aefd756",
   "metadata": {},
   "outputs": [],
   "source": [
    "a1=np.array([1,2,5,7,10])\n",
    "a2=createNNLayer(a1.reshape(-1,1),10)"
   ]
  },
  {
   "cell_type": "code",
   "execution_count": 5,
   "id": "047ddeaa-131f-47af-9a1e-01983e4ec4ee",
   "metadata": {},
   "outputs": [
    {
     "data": {
      "text/plain": [
       "array([[0.26852157, 0.5850778 , 0.37821978, 0.21230432, 0.64451416,\n",
       "        0.64437361, 0.43623438, 0.48740333, 0.73036748, 0.67383552],\n",
       "       [0.26135648, 0.60531028, 0.30735073, 0.14182267, 0.6604612 ,\n",
       "        0.787551  , 0.50067736, 0.42719748, 0.8529717 , 0.72666376],\n",
       "       [0.24061495, 0.66365023, 0.14694029, 0.03669747, 0.70606871,\n",
       "        0.96946027, 0.68572637, 0.26464065, 0.98275677, 0.84996059],\n",
       "       [0.22742681, 0.70005894, 0.08396541, 0.01411998, 0.73439642,\n",
       "        0.99253004, 0.78559109, 0.18126789, 0.99618947, 0.90366664],\n",
       "       [0.20861747, 0.75017408, 0.03435933, 0.00329066, 0.77347892,\n",
       "        0.99912188, 0.88855413, 0.09652271, 0.99961079, 0.95235575]])"
      ]
     },
     "execution_count": 5,
     "metadata": {},
     "output_type": "execute_result"
    }
   ],
   "source": [
    "a2"
   ]
  },
  {
   "cell_type": "markdown",
   "id": "e1acde4d-7733-4bba-a8eb-1376b4c2fc96",
   "metadata": {},
   "source": [
    "## Interpretaion of output: \n",
    "1- The output has 5 rows which shows the number of data points i.e total number of readings.\n",
    "\n",
    "2- The output has 10 columns that show the outpput corresponding to each artificial neuron in the network."
   ]
  },
  {
   "cell_type": "markdown",
   "id": "eec53013-f8c2-413d-bcc5-2fffc2c7a02d",
   "metadata": {},
   "source": [
    "## Lets make a more fancy function for layer"
   ]
  },
  {
   "cell_type": "code",
   "execution_count": 6,
   "id": "cfbee7ca-c234-4e73-83ed-c70396416775",
   "metadata": {},
   "outputs": [],
   "source": [
    "def NNLayer(units,activation):\n",
    "    # a is a nd array of order m by n\n",
    "    # m is no. of iterations\n",
    "    # n is no. of features\n",
    "    # W has a shape n by units\n",
    "    # a_out has a shape of m by units \n",
    "    # for every reading i the a_out has columns showing the neuron values\n",
    "    # activation is the type of activation function we want to use e.g. sigmoid, ReLU, linear\n",
    "    \n",
    "    def get_a_out(a,W_init=None,b_init=None):\n",
    "        m,n=a.shape\n",
    "        a_out=np.zeros((m,units))\n",
    "        if W_init is None:\n",
    "            W=np.random.uniform(-1,1,(n,units))\n",
    "        else:\n",
    "            W=W_init\n",
    "        if b_init is None:\n",
    "            b=np.random.uniform(-1,1,(units,1))\n",
    "        else: \n",
    "            b=b_init\n",
    "        for i in range(m):\n",
    "            for j in range(units):\n",
    "                a_out[i][j]=g(np.dot(W[:,j],a[i,:])+b[j,0])\n",
    "        return a_out\n",
    "    return get_a_out"
   ]
  },
  {
   "cell_type": "code",
   "execution_count": 7,
   "id": "e3166407-fc98-4a28-8c39-eec5b6ef228c",
   "metadata": {},
   "outputs": [],
   "source": [
    "myLayer=NNLayer(units=10,activation='sigmoid')"
   ]
  },
  {
   "cell_type": "code",
   "execution_count": 8,
   "id": "16417c43-8d06-4843-9b6f-06d9c83eab1b",
   "metadata": {},
   "outputs": [
    {
     "data": {
      "text/plain": [
       "array([[0.70080638, 0.68983891, 0.36181303, 0.37875355, 0.67233084,\n",
       "        0.33412684, 0.59338824, 0.68864241, 0.71022276, 0.40255632],\n",
       "       [0.80422729, 0.78743218, 0.26657609, 0.28379448, 0.63740717,\n",
       "        0.39761778, 0.76457461, 0.81882225, 0.82343138, 0.52748276],\n",
       "       [0.95682208, 0.94479768, 0.08740455, 0.09811552, 0.52504757,\n",
       "        0.6003999 , 0.97282038, 0.97472189, 0.96981277, 0.83543444],\n",
       "       [0.98554083, 0.97937207, 0.03787453, 0.04393602, 0.44794883,\n",
       "        0.72221726, 0.99439014, 0.99382732, 0.99147586, 0.93304151],\n",
       "       [0.99728765, 0.99546198, 0.01026652, 0.01245974, 0.33786665,\n",
       "        0.85545212, 0.99948838, 0.99927256, 0.99875355, 0.98446462]])"
      ]
     },
     "execution_count": 8,
     "metadata": {},
     "output_type": "execute_result"
    }
   ],
   "source": [
    "myLayer(a1.reshape(-1,1))"
   ]
  },
  {
   "cell_type": "markdown",
   "id": "f014c414-a8ae-46d3-8ae2-b12af899aed1",
   "metadata": {},
   "source": [
    "## Lets do some work with Tensorflow"
   ]
  },
  {
   "cell_type": "markdown",
   "id": "7fbb3ef2-0e60-437d-bcaa-71df6ce04e7f",
   "metadata": {},
   "source": [
    "### Lets examine the Coffee data using Tensorflow"
   ]
  },
  {
   "cell_type": "markdown",
   "id": "94416729-80db-4485-9911-c18ce5bcbf27",
   "metadata": {},
   "source": [
    "## <p style='color:red;'>Importing the Coffee Data</p>"
   ]
  },
  {
   "cell_type": "code",
   "execution_count": 9,
   "id": "041b1184-862c-49c2-bf95-f66db215c4cd",
   "metadata": {},
   "outputs": [],
   "source": [
    "import pickle\n",
    "with open('Coffee Roasting_BinaryOut','rb') as file:\n",
    "    y_train=pickle.load(file)\n",
    "with open('Coffee Roasting_inputData(Temp and Duration)','rb') as file:\n",
    "    x_train=pickle.load(file)"
   ]
  },
  {
   "cell_type": "code",
   "execution_count": 10,
   "id": "a0d303b6-16e9-4c63-a114-ffeca1d13be1",
   "metadata": {},
   "outputs": [
    {
     "data": {
      "text/plain": [
       "((200, 2), (200, 1))"
      ]
     },
     "execution_count": 10,
     "metadata": {},
     "output_type": "execute_result"
    }
   ],
   "source": [
    "x_train.shape,y_train.shape"
   ]
  },
  {
   "cell_type": "markdown",
   "id": "6fabb3d0-779c-4393-a6a9-592256d9a9eb",
   "metadata": {},
   "source": [
    "### Normalize the Data using Numpy only"
   ]
  },
  {
   "cell_type": "code",
   "execution_count": 11,
   "id": "fe91dcf8-4fb9-42e0-9cc8-22160fb73482",
   "metadata": {},
   "outputs": [],
   "source": [
    "cols=x_train.shape[1]\n",
    "x_scaled=np.zeros(x_train.shape)\n",
    "for j in range(cols):\n",
    "    x_scaled[:,j]=(x_train[:,j]-np.mean(x_train[:,j]))/(np.max(x_train[:,j])-np.min(x_train[:,j]))"
   ]
  },
  {
   "cell_type": "code",
   "execution_count": 12,
   "id": "0ee09c9a-a164-4352-80e2-354267bdb654",
   "metadata": {},
   "outputs": [],
   "source": [
    "model=tf.keras.Sequential([\n",
    "    tf.keras.Input(shape=(2,)),\n",
    "    tf.keras.layers.Dense(units=3,activation='relu'),\n",
    "    #tf.keras.layers.Dense(units=3,activation='relu'),\n",
    "    tf.keras.layers.Dense(units=1,activation='sigmoid'),\n",
    "])\n",
    "losses=tf.keras.losses.BinaryCrossentropy()\n",
    "optimizer=tf.keras.optimizers.Adam(learning_rate=0.01)"
   ]
  },
  {
   "cell_type": "code",
   "execution_count": 13,
   "id": "edc7d56b-7ff3-4162-90c5-c9fcc06c44df",
   "metadata": {},
   "outputs": [
    {
     "name": "stdout",
     "output_type": "stream",
     "text": [
      "Epoch 1/100\n",
      "7/7 - 0s - loss: 198.5135 - accuracy: 0.2150\n",
      "Epoch 2/100\n",
      "7/7 - 0s - loss: 164.4890 - accuracy: 0.2150\n",
      "Epoch 3/100\n",
      "7/7 - 0s - loss: 134.7125 - accuracy: 0.2150\n",
      "Epoch 4/100\n",
      "7/7 - 0s - loss: 109.1571 - accuracy: 0.2150\n",
      "Epoch 5/100\n",
      "7/7 - 0s - loss: 87.5892 - accuracy: 0.2150\n",
      "Epoch 6/100\n",
      "7/7 - 0s - loss: 69.3824 - accuracy: 0.2150\n",
      "Epoch 7/100\n",
      "7/7 - 0s - loss: 54.2885 - accuracy: 0.2150\n",
      "Epoch 8/100\n",
      "7/7 - 0s - loss: 42.4540 - accuracy: 0.2150\n",
      "Epoch 9/100\n",
      "7/7 - 0s - loss: 32.4839 - accuracy: 0.2150\n",
      "Epoch 10/100\n",
      "7/7 - 0s - loss: 24.3007 - accuracy: 0.2150\n",
      "Epoch 11/100\n",
      "7/7 - 0s - loss: 17.2675 - accuracy: 0.2150\n",
      "Epoch 12/100\n",
      "7/7 - 0s - loss: 11.2488 - accuracy: 0.2150\n",
      "Epoch 13/100\n",
      "7/7 - 0s - loss: 5.3180 - accuracy: 0.2150\n",
      "Epoch 14/100\n",
      "7/7 - 0s - loss: 0.8956 - accuracy: 0.5450\n",
      "Epoch 15/100\n",
      "7/7 - 0s - loss: 1.1659 - accuracy: 0.7850\n",
      "Epoch 16/100\n",
      "7/7 - 0s - loss: 1.3509 - accuracy: 0.7850\n",
      "Epoch 17/100\n",
      "7/7 - 0s - loss: 1.1574 - accuracy: 0.7850\n",
      "Epoch 18/100\n",
      "7/7 - 0s - loss: 0.8074 - accuracy: 0.7850\n",
      "Epoch 19/100\n",
      "7/7 - 0s - loss: 0.5269 - accuracy: 0.7850\n",
      "Epoch 20/100\n",
      "7/7 - 0s - loss: 0.5770 - accuracy: 0.7850\n",
      "Epoch 21/100\n",
      "7/7 - 0s - loss: 0.5439 - accuracy: 0.7850\n",
      "Epoch 22/100\n",
      "7/7 - 0s - loss: 0.5308 - accuracy: 0.7850\n",
      "Epoch 23/100\n",
      "7/7 - 0s - loss: 0.5433 - accuracy: 0.7850\n",
      "Epoch 24/100\n",
      "7/7 - 0s - loss: 0.5269 - accuracy: 0.7850\n",
      "Epoch 25/100\n",
      "7/7 - 0s - loss: 0.5225 - accuracy: 0.7850\n",
      "Epoch 26/100\n",
      "7/7 - 0s - loss: 0.5236 - accuracy: 0.7850\n",
      "Epoch 27/100\n",
      "7/7 - 0s - loss: 0.5198 - accuracy: 0.7850\n",
      "Epoch 28/100\n",
      "7/7 - 0s - loss: 0.5189 - accuracy: 0.7850\n",
      "Epoch 29/100\n",
      "7/7 - 0s - loss: 0.5200 - accuracy: 0.7850\n",
      "Epoch 30/100\n",
      "7/7 - 0s - loss: 0.5193 - accuracy: 0.7850\n",
      "Epoch 31/100\n",
      "7/7 - 0s - loss: 0.5198 - accuracy: 0.7850\n",
      "Epoch 32/100\n",
      "7/7 - 0s - loss: 0.5190 - accuracy: 0.7850\n",
      "Epoch 33/100\n",
      "7/7 - 0s - loss: 0.5206 - accuracy: 0.7850\n",
      "Epoch 34/100\n",
      "7/7 - 0s - loss: 0.5187 - accuracy: 0.7850\n",
      "Epoch 35/100\n",
      "7/7 - 0s - loss: 0.5191 - accuracy: 0.7850\n",
      "Epoch 36/100\n",
      "7/7 - 0s - loss: 0.5193 - accuracy: 0.7850\n",
      "Epoch 37/100\n",
      "7/7 - 0s - loss: 0.5190 - accuracy: 0.7850\n",
      "Epoch 38/100\n",
      "7/7 - 0s - loss: 0.5182 - accuracy: 0.7850\n",
      "Epoch 39/100\n",
      "7/7 - 0s - loss: 0.5247 - accuracy: 0.7850\n",
      "Epoch 40/100\n",
      "7/7 - 0s - loss: 0.5198 - accuracy: 0.7850\n",
      "Epoch 41/100\n",
      "7/7 - 0s - loss: 0.5208 - accuracy: 0.7850\n",
      "Epoch 42/100\n",
      "7/7 - 0s - loss: 0.5235 - accuracy: 0.7850\n",
      "Epoch 43/100\n",
      "7/7 - 0s - loss: 0.5248 - accuracy: 0.7850\n",
      "Epoch 44/100\n",
      "7/7 - 0s - loss: 0.5166 - accuracy: 0.7850\n",
      "Epoch 45/100\n",
      "7/7 - 0s - loss: 0.5225 - accuracy: 0.7850\n",
      "Epoch 46/100\n",
      "7/7 - 0s - loss: 0.5171 - accuracy: 0.7850\n",
      "Epoch 47/100\n",
      "7/7 - 0s - loss: 0.5229 - accuracy: 0.7850\n",
      "Epoch 48/100\n",
      "7/7 - 0s - loss: 0.5180 - accuracy: 0.7850\n",
      "Epoch 49/100\n",
      "7/7 - 0s - loss: 0.5233 - accuracy: 0.7850\n",
      "Epoch 50/100\n",
      "7/7 - 0s - loss: 0.5231 - accuracy: 0.7850\n",
      "Epoch 51/100\n",
      "7/7 - 0s - loss: 0.5175 - accuracy: 0.7850\n",
      "Epoch 52/100\n",
      "7/7 - 0s - loss: 0.5241 - accuracy: 0.7850\n",
      "Epoch 53/100\n",
      "7/7 - 0s - loss: 0.5250 - accuracy: 0.7850\n",
      "Epoch 54/100\n",
      "7/7 - 0s - loss: 0.5202 - accuracy: 0.7850\n",
      "Epoch 55/100\n",
      "7/7 - 0s - loss: 0.5180 - accuracy: 0.7850\n",
      "Epoch 56/100\n",
      "7/7 - 0s - loss: 0.5191 - accuracy: 0.7850\n",
      "Epoch 57/100\n",
      "7/7 - 0s - loss: 0.5178 - accuracy: 0.7850\n",
      "Epoch 58/100\n",
      "7/7 - 0s - loss: 0.5178 - accuracy: 0.7850\n",
      "Epoch 59/100\n",
      "7/7 - 0s - loss: 0.5252 - accuracy: 0.7850\n",
      "Epoch 60/100\n",
      "7/7 - 0s - loss: 0.5160 - accuracy: 0.7850\n",
      "Epoch 61/100\n",
      "7/7 - 0s - loss: 0.5265 - accuracy: 0.7850\n",
      "Epoch 62/100\n",
      "7/7 - 0s - loss: 0.5252 - accuracy: 0.7850\n",
      "Epoch 63/100\n",
      "7/7 - 0s - loss: 0.5194 - accuracy: 0.7850\n",
      "Epoch 64/100\n",
      "7/7 - 0s - loss: 0.5170 - accuracy: 0.7850\n",
      "Epoch 65/100\n",
      "7/7 - 0s - loss: 0.5205 - accuracy: 0.7850\n",
      "Epoch 66/100\n",
      "7/7 - 0s - loss: 0.5267 - accuracy: 0.7850\n",
      "Epoch 67/100\n",
      "7/7 - 0s - loss: 0.5157 - accuracy: 0.7850\n",
      "Epoch 68/100\n",
      "7/7 - 0s - loss: 0.5235 - accuracy: 0.7850\n",
      "Epoch 69/100\n",
      "7/7 - 0s - loss: 0.5162 - accuracy: 0.7850\n",
      "Epoch 70/100\n",
      "7/7 - 0s - loss: 0.5215 - accuracy: 0.7850\n",
      "Epoch 71/100\n",
      "7/7 - 0s - loss: 0.5198 - accuracy: 0.7850\n",
      "Epoch 72/100\n",
      "7/7 - 0s - loss: 0.5188 - accuracy: 0.7850\n",
      "Epoch 73/100\n",
      "7/7 - 0s - loss: 0.5189 - accuracy: 0.7850\n",
      "Epoch 74/100\n",
      "7/7 - 0s - loss: 0.5222 - accuracy: 0.7850\n",
      "Epoch 75/100\n",
      "7/7 - 0s - loss: 0.5172 - accuracy: 0.7850\n",
      "Epoch 76/100\n",
      "7/7 - 0s - loss: 0.5175 - accuracy: 0.7850\n",
      "Epoch 77/100\n",
      "7/7 - 0s - loss: 0.5166 - accuracy: 0.7850\n",
      "Epoch 78/100\n",
      "7/7 - 0s - loss: 0.5182 - accuracy: 0.7850\n",
      "Epoch 79/100\n",
      "7/7 - 0s - loss: 0.5164 - accuracy: 0.7850\n",
      "Epoch 80/100\n",
      "7/7 - 0s - loss: 0.5310 - accuracy: 0.7850\n",
      "Epoch 81/100\n",
      "7/7 - 0s - loss: 0.5183 - accuracy: 0.7850\n",
      "Epoch 82/100\n",
      "7/7 - 0s - loss: 0.5220 - accuracy: 0.7850\n",
      "Epoch 83/100\n",
      "7/7 - 0s - loss: 0.5189 - accuracy: 0.7850\n",
      "Epoch 84/100\n",
      "7/7 - 0s - loss: 0.5213 - accuracy: 0.7850\n",
      "Epoch 85/100\n",
      "7/7 - 0s - loss: 0.5186 - accuracy: 0.7850\n",
      "Epoch 86/100\n",
      "7/7 - 0s - loss: 0.5202 - accuracy: 0.7850\n",
      "Epoch 87/100\n",
      "7/7 - 0s - loss: 0.5219 - accuracy: 0.7850\n",
      "Epoch 88/100\n",
      "7/7 - 0s - loss: 0.5177 - accuracy: 0.7850\n",
      "Epoch 89/100\n",
      "7/7 - 0s - loss: 0.5192 - accuracy: 0.7850\n",
      "Epoch 90/100\n",
      "7/7 - 0s - loss: 0.5160 - accuracy: 0.7850\n",
      "Epoch 91/100\n",
      "7/7 - 0s - loss: 0.5227 - accuracy: 0.7850\n",
      "Epoch 92/100\n",
      "7/7 - 0s - loss: 0.5172 - accuracy: 0.7850\n",
      "Epoch 93/100\n",
      "7/7 - 0s - loss: 0.5208 - accuracy: 0.7850\n",
      "Epoch 94/100\n",
      "7/7 - 0s - loss: 0.5169 - accuracy: 0.7850\n",
      "Epoch 95/100\n",
      "7/7 - 0s - loss: 0.5182 - accuracy: 0.7850\n",
      "Epoch 96/100\n",
      "7/7 - 0s - loss: 0.5137 - accuracy: 0.7850\n",
      "Epoch 97/100\n",
      "7/7 - 0s - loss: 0.5184 - accuracy: 0.7850\n",
      "Epoch 98/100\n",
      "7/7 - 0s - loss: 0.5154 - accuracy: 0.7850\n",
      "Epoch 99/100\n",
      "7/7 - 0s - loss: 0.5186 - accuracy: 0.7850\n",
      "Epoch 100/100\n",
      "7/7 - 0s - loss: 0.5240 - accuracy: 0.7850\n"
     ]
    },
    {
     "data": {
      "text/plain": [
       "<tensorflow.python.keras.callbacks.History at 0x2304bf89af0>"
      ]
     },
     "execution_count": 13,
     "metadata": {},
     "output_type": "execute_result"
    }
   ],
   "source": [
    "model.compile(loss=losses,optimizer=optimizer,metrics=['accuracy'])\n",
    "model.fit(x_train,y_train,epochs=100,verbose=2)"
   ]
  },
  {
   "cell_type": "code",
   "execution_count": 14,
   "id": "1af9871b-8382-46a6-89bd-5b41482e49db",
   "metadata": {},
   "outputs": [
    {
     "name": "stdout",
     "output_type": "stream",
     "text": [
      "Layer1 weights:  [array([[-0.46440136,  0.26090804,  0.17246519],\n",
      "       [ 0.51934755, -0.7937167 , -0.67889625]], dtype=float32), array([ 0.        , -0.52897125, -0.68128127], dtype=float32)]\n",
      "Layer2 weights:  [array([[-1.1210018 ],\n",
      "       [-0.18998277],\n",
      "       [ 0.2804707 ]], dtype=float32), array([-0.75354886], dtype=float32)]\n"
     ]
    }
   ],
   "source": [
    "[layer_1,layer_2]=model.layers\n",
    "print(\"Layer1 weights: \",layer_1.get_weights() )\n",
    "print(\"Layer2 weights: \",layer_2.get_weights() )"
   ]
  },
  {
   "cell_type": "code",
   "execution_count": 21,
   "id": "2bbc0b8c-2da6-4a50-b67d-688e2a3a1f4b",
   "metadata": {},
   "outputs": [
    {
     "data": {
      "text/plain": [
       "array([[0.14717165]], dtype=float32)"
      ]
     },
     "execution_count": 21,
     "metadata": {},
     "output_type": "execute_result"
    }
   ],
   "source": [
    "x_test=np.array([[200,17]])  # positive sample,negative sample\n",
    "model.predict(x_test) ## this predicts only a single reading"
   ]
  },
  {
   "cell_type": "code",
   "execution_count": 16,
   "id": "1b591bb6-6cb9-42c1-b5bc-1a4109cbfc7c",
   "metadata": {},
   "outputs": [
    {
     "data": {
      "text/plain": [
       "(200, 1)"
      ]
     },
     "execution_count": 16,
     "metadata": {},
     "output_type": "execute_result"
    }
   ],
   "source": [
    "predictions=model.predict_on_batch(x_scaled)\n",
    "predictions.shape"
   ]
  },
  {
   "cell_type": "code",
   "execution_count": 17,
   "id": "62530fa7-7a42-4d1f-9b54-bab8b48c8445",
   "metadata": {},
   "outputs": [
    {
     "data": {
      "text/plain": [
       "(200, 1)"
      ]
     },
     "execution_count": 17,
     "metadata": {},
     "output_type": "execute_result"
    }
   ],
   "source": [
    "labels=y_train\n",
    "labels.shape"
   ]
  },
  {
   "cell_type": "code",
   "execution_count": 18,
   "id": "1aff740d-dd3f-429b-85b1-6b69bc07ca87",
   "metadata": {},
   "outputs": [
    {
     "data": {
      "text/plain": [
       "<tf.Tensor: shape=(2, 2), dtype=int32, numpy=\n",
       "array([[157,   0],\n",
       "       [ 43,   0]])>"
      ]
     },
     "execution_count": 18,
     "metadata": {},
     "output_type": "execute_result"
    }
   ],
   "source": [
    "cm=tf.math.confusion_matrix(labels.reshape(200,),predictions.reshape(200,))\n",
    "cm"
   ]
  },
  {
   "cell_type": "code",
   "execution_count": 19,
   "id": "f56263de-cc96-4239-b619-e8cbe3d2e18c",
   "metadata": {},
   "outputs": [],
   "source": [
    "import seaborn as sns"
   ]
  },
  {
   "cell_type": "code",
   "execution_count": 20,
   "id": "037c9e03-457a-4220-a943-fb0bd49d134f",
   "metadata": {},
   "outputs": [
    {
     "data": {
      "text/plain": [
       "<Axes: >"
      ]
     },
     "execution_count": 20,
     "metadata": {},
     "output_type": "execute_result"
    },
    {
     "data": {
      "image/png": "[encoded data removed]",
      "text/plain": [
       "<Figure size 640x480 with 2 Axes>"
      ]
     },
     "metadata": {},
     "output_type": "display_data"
    }
   ],
   "source": [
    "sns.heatmap(cm)"
   ]
  },
  {
   "cell_type": "code",
   "execution_count": null,
   "id": "a64e1c80-67ae-41c4-9587-9044c1b07ef8",
   "metadata": {},
   "outputs": [],
   "source": []
  }
 ],
 "metadata": {
  "kernelspec": {
   "display_name": "Python 3 (ipykernel)",
   "language": "python",
   "name": "python3"
  },
  "language_info": {
   "codemirror_mode": {
    "name": "ipython",
    "version": 3
   },
   "file_extension": ".py",
   "mimetype": "text/x-python",
   "name": "python",
   "nbconvert_exporter": "python",
   "pygments_lexer": "ipython3",
   "version": "3.8.20"
  }
 },
 "nbformat": 4,
 "nbformat_minor": 5
}

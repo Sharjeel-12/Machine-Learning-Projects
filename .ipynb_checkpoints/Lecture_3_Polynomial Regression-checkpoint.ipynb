{
 "cells": [
  {
   "cell_type": "markdown",
   "id": "f1adbd16-c45b-4e63-a5f4-c2ffc91a9f93",
   "metadata": {},
   "source": [
    "## Compute Gradient, Compute Cost and Compute Gradient Descent Function are the same from the previous tutorial"
   ]
  },
  {
   "cell_type": "markdown",
   "id": "925b3e31-30f2-4d6d-acb5-9e68a29c060c",
   "metadata": {},
   "source": [
    "### Compute Cost Function"
   ]
  },
  {
   "cell_type": "code",
   "execution_count": 1,
   "id": "bcf4b44d-6359-4959-934b-4300782019e3",
   "metadata": {},
   "outputs": [],
   "source": [
    "# x is the array of order m by n \n",
    "# m is the total ietration number\n",
    "# n is the number of different features\n",
    "# b is a scalar\n",
    "# w is an array of weights of features\n",
    "def compute_cost(x,y,w,b):\n",
    "    w=w.reshape(-1,1)\n",
    "    y=y.reshape(-1,1)\n",
    "    m=x.shape[0]\n",
    "    f_wb=np.dot(x,w)+b\n",
    "    cost=(1/(2*m))*np.sum((f_wb-y)**2)\n",
    "    return cost"
   ]
  },
  {
   "cell_type": "markdown",
   "id": "f7845d2b-e012-4398-b80c-c0dbae7e82c3",
   "metadata": {},
   "source": [
    "### Compute Gradient Function"
   ]
  },
  {
   "cell_type": "code",
   "execution_count": 2,
   "id": "97dfc9bb-da3c-4e2f-b002-74929b3cc184",
   "metadata": {},
   "outputs": [],
   "source": [
    "def compute_gradient(x,y,w,b):\n",
    "    #dj_dw=np.zeros(w.shape[0])\n",
    "    dj_db=0\n",
    "    w = w.reshape(-1,1)\n",
    "    y = y.reshape(-1, 1)\n",
    "    m=x.shape[0]\n",
    "    f_wb=np.dot(x,w)+b\n",
    "    delta=f_wb-y\n",
    "    dj_dw=(1/m)*np.dot(x.T,delta)\n",
    "    dj_db=(1/m)*np.sum(delta)\n",
    "    return dj_dw,dj_db"
   ]
  },
  {
   "cell_type": "markdown",
   "id": "e4a046b4-1ee8-4248-a892-0b89c9cc5efe",
   "metadata": {},
   "source": [
    "### Compute Gradient Descent Function"
   ]
  },
  {
   "cell_type": "code",
   "execution_count": 3,
   "id": "713221c7-ccb7-4042-aee1-19cadee34b3f",
   "metadata": {},
   "outputs": [],
   "source": [
    "def compute_gradientDescent(x,y,w,b,iterations,alpha):\n",
    "    J_history=[]\n",
    "    weight_records=[]\n",
    "    bias_record=[]\n",
    "    w=w.reshape(-1,1)\n",
    "    for i in range(iterations):\n",
    "        dj_dw,dj_db=compute_gradient(x,y,w,b)\n",
    "        \n",
    "        w=w-alpha*dj_dw\n",
    "        b=b-alpha*dj_db\n",
    "        J_history.append(compute_cost(x,y,w,b))\n",
    "        weight_records.append(w)\n",
    "        bias_record.append(b)\n",
    "        if (i+1)%100==0:\n",
    "            print(f'At iteration: {i+1}, the value of the cost function is: {J_history[-1]}')\n",
    "    return w,b,J_history,weight_records,bias_record"
   ]
  },
  {
   "cell_type": "code",
   "execution_count": 5,
   "id": "6bc6710c-50fe-4920-b48d-4966a5e49a43",
   "metadata": {},
   "outputs": [],
   "source": [
    "import numpy as np\n",
    "import matplotlib.pyplot as plt\n",
    "%matplotlib inline"
   ]
  },
  {
   "cell_type": "code",
   "execution_count": 6,
   "id": "1ead27e5-a9b6-464d-a836-67d9a2c1b1fb",
   "metadata": {},
   "outputs": [],
   "source": [
    "noise=np.random.uniform(-10,10,(20,))\n",
    "x1_train=np.random.uniform(-10,10,(20,))\n",
    "y_train=np.square(x1_train)+noise"
   ]
  },
  {
   "cell_type": "code",
   "execution_count": 7,
   "id": "3b4b90e4-4122-449a-a56c-f56349ae7a1e",
   "metadata": {},
   "outputs": [],
   "source": [
    "fig,ax=plt.subplots(1,1,sharey=True)"
   ]
  },
  {
   "cell_type": "code",
   "execution_count": 8,
   "id": "6a4b4ab9-00f8-4a70-aafb-7f7b088a3793",
   "metadata": {},
   "outputs": [
    {
     "data": {
      "image/png": "[encoded data removed]",
      "text/plain": [
       "<Figure size 640x480 with 1 Axes>"
      ]
     },
     "metadata": {},
     "output_type": "display_data"
    }
   ],
   "source": [
    "ax.scatter(x1_train,y_train,c='red')\n",
    "plt.show()"
   ]
  },
  {
   "cell_type": "code",
   "execution_count": 42,
   "id": "16c4a0cc-819f-460c-a45d-bc3f63d6ec38",
   "metadata": {},
   "outputs": [
    {
     "name": "stdout",
     "output_type": "stream",
     "text": [
      "At iteration: 100, the value of the cost function is: 178.19372010405567\n",
      "At iteration: 200, the value of the cost function is: 167.26323728889528\n",
      "At iteration: 300, the value of the cost function is: 165.6691826797625\n",
      "At iteration: 400, the value of the cost function is: 165.43671261051978\n",
      "At iteration: 500, the value of the cost function is: 165.4028101753183\n",
      "At iteration: 600, the value of the cost function is: 165.39786598996\n",
      "At iteration: 700, the value of the cost function is: 165.39714495122894\n",
      "At iteration: 800, the value of the cost function is: 165.3970397980411\n",
      "At iteration: 900, the value of the cost function is: 165.39702446295237\n",
      "At iteration: 1000, the value of the cost function is: 165.39702222654898\n",
      "At iteration: 1100, the value of the cost function is: 165.39702190040157\n",
      "At iteration: 1200, the value of the cost function is: 165.3970218528376\n",
      "At iteration: 1300, the value of the cost function is: 165.3970218459011\n",
      "At iteration: 1400, the value of the cost function is: 165.39702184488945\n",
      "At iteration: 1500, the value of the cost function is: 165.39702184474197\n",
      "At iteration: 1600, the value of the cost function is: 165.39702184472043\n",
      "At iteration: 1700, the value of the cost function is: 165.3970218447173\n",
      "At iteration: 1800, the value of the cost function is: 165.39702184471685\n",
      "At iteration: 1900, the value of the cost function is: 165.39702184471682\n",
      "At iteration: 2000, the value of the cost function is: 165.39702184471676\n"
     ]
    }
   ],
   "source": [
    "w,b,J_history,weight_records,bias_record=compute_gradientDescent(x1_train.reshape(-1,1),y_train,np.array([1]),1,2000,0.01)"
   ]
  },
  {
   "cell_type": "code",
   "execution_count": 43,
   "id": "be347512-57ea-4da3-905c-ef056549b890",
   "metadata": {},
   "outputs": [
    {
     "data": {
      "text/plain": [
       "(array([[-1.44567194]]), 14.67791730570224)"
      ]
     },
     "execution_count": 43,
     "metadata": {},
     "output_type": "execute_result"
    }
   ],
   "source": [
    "w,b"
   ]
  },
  {
   "cell_type": "code",
   "execution_count": 47,
   "id": "92be13c3-bc35-4fb6-aa73-7aee17ddd47b",
   "metadata": {},
   "outputs": [
    {
     "data": {
      "image/png": "[encoded data removed]",
      "text/plain": [
       "<Figure size 640x480 with 1 Axes>"
      ]
     },
     "metadata": {},
     "output_type": "display_data"
    }
   ],
   "source": [
    "linearModel_predictions=np.dot(x1_train.reshape(-1,1),w)+b\n",
    "plt.scatter(x1_train,y_train,c='red')\n",
    "plt.plot(x1_train,linearModel_predictions,'g--',lw=2)\n",
    "plt.show()"
   ]
  },
  {
   "cell_type": "markdown",
   "id": "79746a17-a985-4144-9bc3-c5a2927529da",
   "metadata": {},
   "source": [
    "### Let us prepare some new features (non-linear features) for non-linear modelling"
   ]
  },
  {
   "cell_type": "code",
   "execution_count": 48,
   "id": "8489fe93-0bce-44ce-afb7-08eb41aa182d",
   "metadata": {},
   "outputs": [],
   "source": [
    "x2_train=np.square(x1_train)"
   ]
  },
  {
   "cell_type": "code",
   "execution_count": 50,
   "id": "a6ac3d46-06af-4bbb-a961-5efca2a2e016",
   "metadata": {},
   "outputs": [],
   "source": [
    "x_train=np.column_stack((x1_train,x2_train))"
   ]
  },
  {
   "cell_type": "code",
   "execution_count": 59,
   "id": "647e64c4-f9da-4283-b474-f0732f6d1b4e",
   "metadata": {},
   "outputs": [
    {
     "name": "stdout",
     "output_type": "stream",
     "text": [
      "At iteration: 100, the value of the cost function is: 16.52719502116539\n",
      "At iteration: 200, the value of the cost function is: 15.8761495413344\n",
      "At iteration: 300, the value of the cost function is: 15.39340614501105\n",
      "At iteration: 400, the value of the cost function is: 15.03285598537182\n",
      "At iteration: 500, the value of the cost function is: 14.7618302698919\n",
      "At iteration: 600, the value of the cost function is: 14.556412824969449\n",
      "At iteration: 700, the value of the cost function is: 14.399094903809521\n",
      "At iteration: 800, the value of the cost function is: 14.277058376322827\n",
      "At iteration: 900, the value of the cost function is: 14.1809189240915\n",
      "At iteration: 1000, the value of the cost function is: 14.103805985830281\n"
     ]
    }
   ],
   "source": [
    "w,b,J_history,weight_records,bias_record=compute_gradientDescent(x_train,y_train,np.array([0.1,0.1]),1,1000,0.0001)"
   ]
  },
  {
   "cell_type": "code",
   "execution_count": 64,
   "id": "272aa289-4d67-4f49-9587-702f9812b10c",
   "metadata": {},
   "outputs": [
    {
     "data": {
      "text/plain": [
       "(1,)"
      ]
     },
     "execution_count": 64,
     "metadata": {},
     "output_type": "execute_result"
    }
   ],
   "source": [
    "w[0].shape"
   ]
  },
  {
   "cell_type": "code",
   "execution_count": 65,
   "id": "9f99cd51-fef7-448e-92a7-859c81f2b5e3",
   "metadata": {},
   "outputs": [],
   "source": [
    "NonLinearModel_Predictions=w[0]*x1_train+w[1]*x2_train+b"
   ]
  },
  {
   "cell_type": "code",
   "execution_count": 67,
   "id": "0d385502-e6e2-40f7-85b2-d7548a51356c",
   "metadata": {},
   "outputs": [
    {
     "data": {
      "text/plain": [
       "(20,)"
      ]
     },
     "execution_count": 67,
     "metadata": {},
     "output_type": "execute_result"
    }
   ],
   "source": [
    "NonLinearModel_Predictions.shape"
   ]
  },
  {
   "cell_type": "code",
   "execution_count": 76,
   "id": "7a820817-d909-4f6b-84df-a643065acea2",
   "metadata": {},
   "outputs": [
    {
     "data": {
      "image/png": "[encoded data removed]",
      "text/plain": [
       "<Figure size 640x480 with 1 Axes>"
      ]
     },
     "metadata": {},
     "output_type": "display_data"
    }
   ],
   "source": [
    "plt.scatter(x1_train,y_train,c='red')\n",
    "plt.scatter(x1_train,NonLinearModel_predictions,c='purple',linestyle='-',label='Connecting Line')\n",
    "plt.show()"
   ]
  },
  {
   "cell_type": "code",
   "execution_count": null,
   "id": "884f1112-ccd8-4237-8629-1a87228df346",
   "metadata": {},
   "outputs": [],
   "source": []
  }
 ],
 "metadata": {
  "kernelspec": {
   "display_name": "Python 3 (ipykernel)",
   "language": "python",
   "name": "python3"
  },
  "language_info": {
   "codemirror_mode": {
    "name": "ipython",
    "version": 3
   },
   "file_extension": ".py",
   "mimetype": "text/x-python",
   "name": "python",
   "nbconvert_exporter": "python",
   "pygments_lexer": "ipython3",
   "version": "3.12.7"
  }
 },
 "nbformat": 4,
 "nbformat_minor": 5
}

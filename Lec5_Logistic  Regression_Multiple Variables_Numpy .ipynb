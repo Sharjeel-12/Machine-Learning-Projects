{
 "cells": [
  {
   "cell_type": "markdown",
   "id": "7149d2a0-d9d1-4a68-bafd-3e8516306209",
   "metadata": {},
   "source": [
    "# In this tutorial we will be writing Logistic Regression code for Multiple variables from Scratch using `numpy` and `vectorization` "
   ]
  },
  {
   "cell_type": "markdown",
   "id": "67e02b2a-47e0-4eb1-bb99-ed448fc6937a",
   "metadata": {},
   "source": [
    "## importing the relevant packages"
   ]
  },
  {
   "cell_type": "code",
   "execution_count": 1,
   "id": "7f03a411-e847-4851-a86a-f16deebeab19",
   "metadata": {},
   "outputs": [],
   "source": [
    "import numpy as np\n",
    "import matplotlib.pyplot as plt\n",
    "%matplotlib inline\n",
    "import seaborn as sns\n",
    "sns.set()"
   ]
  },
  {
   "cell_type": "code",
   "execution_count": 2,
   "id": "d1743d6e-24ab-43b8-8104-1bfb588f3c88",
   "metadata": {},
   "outputs": [],
   "source": [
    "def sigmoid(z):\n",
    "    y=1/(1+np.exp(-z))\n",
    "    return y"
   ]
  },
  {
   "cell_type": "markdown",
   "id": "fdec4a71-c798-496e-8de2-ad9d6cc73a43",
   "metadata": {},
   "source": [
    "## Writing the compute_cost function for calculating cost"
   ]
  },
  {
   "cell_type": "code",
   "execution_count": 16,
   "id": "3f24fd74-04a2-446e-8e0b-26686e186e87",
   "metadata": {},
   "outputs": [],
   "source": [
    "def compute_cost(x,y,w,b):\n",
    "    y=y.reshape(-1,1)\n",
    "    w=w.reshape(-1,1)\n",
    "    m=x.shape[0]\n",
    "    f_wb=sigmoid(np.dot(x,w)+b)\n",
    "    cost=(-1/m)*(np.dot(y.T,np.log(f_wb))+np.dot((1-y).T,np.log(1-f_wb)))\n",
    "    return cost"
   ]
  },
  {
   "cell_type": "code",
   "execution_count": 25,
   "id": "3228ef37-5ada-4aa7-bba9-6a8fd9c9a7e1",
   "metadata": {},
   "outputs": [
    {
     "data": {
      "text/plain": [
       "array([[1.52909548]])"
      ]
     },
     "execution_count": 25,
     "metadata": {},
     "output_type": "execute_result"
    }
   ],
   "source": [
    "x_train = np.array([[0.5, 1.5], [1,1], [1.5, 0.5], [3, 0.5], [2, 2], [1, 2.5]])\n",
    "y_train = np.array([0, 0, 0, 1, 1, 1])\n",
    "w=np.array([1,1])\n",
    "b=1\n",
    "iterations=5000\n",
    "alpha=0.01\n",
    "compute_cost(x_train,y_train,w,b)"
   ]
  },
  {
   "cell_type": "markdown",
   "id": "ae6a839a-225e-486d-ad32-7ba06ba89ed7",
   "metadata": {},
   "source": [
    "## Writing a function to compute gradient of weights and bias in case of Multiple variables/features"
   ]
  },
  {
   "cell_type": "code",
   "execution_count": 26,
   "id": "14a0fdec-bbee-42dd-8064-b591af959f20",
   "metadata": {},
   "outputs": [],
   "source": [
    "def compute_gradient(x,y,w,b):\n",
    "    y=y.reshape(-1,1)\n",
    "    w=w.reshape(-1,1)\n",
    "    m=x.shape[0]\n",
    "    f_wb=sigmoid(np.dot(x,w)+b)\n",
    "    delta=f_wb-y\n",
    "    dj_dw=(1/m)*(np.dot(delta.T,x))\n",
    "    dj_db=(1/m)*np.sum(delta)\n",
    "    return dj_dw,dj_db"
   ]
  },
  {
   "cell_type": "code",
   "execution_count": 27,
   "id": "dc0dae0b-4bf5-428a-805c-85719d7a1525",
   "metadata": {},
   "outputs": [
    {
     "data": {
      "text/plain": [
       "(array([[0.46673148, 0.46856264]]), 0.4715092740469715)"
      ]
     },
     "execution_count": 27,
     "metadata": {},
     "output_type": "execute_result"
    }
   ],
   "source": [
    "compute_gradient(x_train,y_train,w,b)"
   ]
  },
  {
   "cell_type": "markdown",
   "id": "0639e4b5-94af-46cd-940c-6d049a0a41b3",
   "metadata": {},
   "source": [
    "## Writing the gradientDescent Calculator function for Multiple features"
   ]
  },
  {
   "cell_type": "code",
   "execution_count": 28,
   "id": "374f3456-a5d0-4885-9269-f7a162285e73",
   "metadata": {},
   "outputs": [],
   "source": [
    "def compute_gradientDescent(x,y,w,b,iterations,alpha):\n",
    "    J_hist=[]\n",
    "    weights=[]\n",
    "    bias=[]\n",
    "    m=x.shape[0]\n",
    "    for i in range(iterations):\n",
    "        dj_dw,dj_db=compute_gradient(x,y,w,b)\n",
    "        w=w-alpha*dj_dw\n",
    "        b=b-alpha*dj_db\n",
    "        J_hist.append(compute_cost(x,y,w,b))\n",
    "        weights.append(w)\n",
    "        bias.append(b)\n",
    "        if (i+1)%100==0:\n",
    "            print('Iteration: {0} Cost: {1}'.format(i+1,J_hist[-1]))\n",
    "    return w,b,J_hist,weights,bias"
   ]
  },
  {
   "cell_type": "code",
   "execution_count": 29,
   "id": "0b8b0f1f-97fd-4559-a55a-34b4066fddd7",
   "metadata": {},
   "outputs": [
    {
     "name": "stdout",
     "output_type": "stream",
     "text": [
      "Iteration: 100 Cost: [[0.97147523]]\n",
      "Iteration: 200 Cost: [[0.71773101]]\n",
      "Iteration: 300 Cost: [[0.65814102]]\n",
      "Iteration: 400 Cost: [[0.63783294]]\n",
      "Iteration: 500 Cost: [[0.62244123]]\n",
      "Iteration: 600 Cost: [[0.60811694]]\n",
      "Iteration: 700 Cost: [[0.59443049]]\n",
      "Iteration: 800 Cost: [[0.58128343]]\n",
      "Iteration: 900 Cost: [[0.56862225]]\n",
      "Iteration: 1000 Cost: [[0.55640828]]\n",
      "Iteration: 1100 Cost: [[0.54461148]]\n",
      "Iteration: 1200 Cost: [[0.53320759]]\n",
      "Iteration: 1300 Cost: [[0.52217631]]\n",
      "Iteration: 1400 Cost: [[0.51150009]]\n",
      "Iteration: 1500 Cost: [[0.50116341]]\n",
      "Iteration: 1600 Cost: [[0.49115215]]\n",
      "Iteration: 1700 Cost: [[0.48145334]]\n",
      "Iteration: 1800 Cost: [[0.47205485]]\n",
      "Iteration: 1900 Cost: [[0.46294524]]\n",
      "Iteration: 2000 Cost: [[0.45411368]]\n",
      "Iteration: 2100 Cost: [[0.44554983]]\n",
      "Iteration: 2200 Cost: [[0.4372438]]\n",
      "Iteration: 2300 Cost: [[0.42918614]]\n",
      "Iteration: 2400 Cost: [[0.42136776]]\n",
      "Iteration: 2500 Cost: [[0.41377993]]\n",
      "Iteration: 2600 Cost: [[0.4064143]]\n",
      "Iteration: 2700 Cost: [[0.39926279]]\n",
      "Iteration: 2800 Cost: [[0.39231767]]\n",
      "Iteration: 2900 Cost: [[0.3855715]]\n",
      "Iteration: 3000 Cost: [[0.37901714]]\n",
      "Iteration: 3100 Cost: [[0.37264772]]\n",
      "Iteration: 3200 Cost: [[0.36645663]]\n",
      "Iteration: 3300 Cost: [[0.36043753]]\n",
      "Iteration: 3400 Cost: [[0.35458433]]\n",
      "Iteration: 3500 Cost: [[0.34889116]]\n",
      "Iteration: 3600 Cost: [[0.34335242]]\n",
      "Iteration: 3700 Cost: [[0.33796269]]\n",
      "Iteration: 3800 Cost: [[0.33271679]]\n",
      "Iteration: 3900 Cost: [[0.32760974]]\n",
      "Iteration: 4000 Cost: [[0.32263673]]\n",
      "Iteration: 4100 Cost: [[0.31779319]]\n",
      "Iteration: 4200 Cost: [[0.31307468]]\n",
      "Iteration: 4300 Cost: [[0.30847697]]\n",
      "Iteration: 4400 Cost: [[0.30399599]]\n",
      "Iteration: 4500 Cost: [[0.2996278]]\n",
      "Iteration: 4600 Cost: [[0.29536866]]\n",
      "Iteration: 4700 Cost: [[0.29121494]]\n",
      "Iteration: 4800 Cost: [[0.28716317]]\n",
      "Iteration: 4900 Cost: [[0.28321002]]\n",
      "Iteration: 5000 Cost: [[0.27935226]]\n"
     ]
    }
   ],
   "source": [
    "w_final,b_final,J_record,w_record,b_record=compute_gradientDescent(x_train,y_train,w,b,iterations,alpha)"
   ]
  },
  {
   "cell_type": "code",
   "execution_count": 39,
   "id": "80897af2-390d-4237-a48e-30933003a6b6",
   "metadata": {},
   "outputs": [
    {
     "data": {
      "text/plain": [
       "array([[1.53496699, 1.2844167 ]])"
      ]
     },
     "execution_count": 39,
     "metadata": {},
     "output_type": "execute_result"
    }
   ],
   "source": [
    "w_final"
   ]
  },
  {
   "cell_type": "code",
   "execution_count": 45,
   "id": "892e09d0-ff6a-4358-89cf-e7765db87b98",
   "metadata": {},
   "outputs": [
    {
     "data": {
      "image/png": "[encoded data removed]",
      "text/plain": [
       "<Figure size 640x480 with 1 Axes>"
      ]
     },
     "metadata": {},
     "output_type": "display_data"
    }
   ],
   "source": [
    "x0=[]\n",
    "x1=[]\n",
    "x=np.arange(5)\n",
    "y=-w_final[0][0]/w_final[0][1]*x-b_final\n",
    "for i in range(x_train.shape[0]):\n",
    "    x0.append(x_train[i][0])\n",
    "    x1.append(x_train[i][1])\n",
    "plt.scatter(x0,x1,c=y_train,cmap='plasma')\n",
    "plt.plot(x,y)\n",
    "plt.axis([0,4,0,3])\n",
    "plt.xlabel('x_0')\n",
    "plt.ylabel('x_1')\n",
    "plt.show()"
   ]
  },
  {
   "cell_type": "code",
   "execution_count": null,
   "id": "bb5a07e9-b298-4dce-be8c-ca602b2dc6be",
   "metadata": {},
   "outputs": [],
   "source": []
  }
 ],
 "metadata": {
  "kernelspec": {
   "display_name": "Python 3 (ipykernel)",
   "language": "python",
   "name": "python3"
  },
  "language_info": {
   "codemirror_mode": {
    "name": "ipython",
    "version": 3
   },
   "file_extension": ".py",
   "mimetype": "text/x-python",
   "name": "python",
   "nbconvert_exporter": "python",
   "pygments_lexer": "ipython3",
   "version": "3.12.7"
  }
 },
 "nbformat": 4,
 "nbformat_minor": 5
}

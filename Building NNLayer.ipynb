{
 "cells": [
  {
   "cell_type": "markdown",
   "id": "e04dacf9-2615-454f-95d2-f364d71a7cb2",
   "metadata": {},
   "source": [
    "# Importing Relevant Packages"
   ]
  },
  {
   "cell_type": "code",
   "execution_count": 1,
   "id": "db585460-4096-4e7d-806a-7e3c3f8afeb3",
   "metadata": {},
   "outputs": [],
   "source": [
    "import numpy as np\n",
    "import tensorflow as tf\n",
    "import matplotlib.pyplot as plt\n",
    "%matplotlib inline"
   ]
  },
  {
   "cell_type": "markdown",
   "id": "617299a7-5f1b-4824-9200-36735e441227",
   "metadata": {},
   "source": [
    "## Writing a function for creating a NN layer: `createNNLayer(units,W=None,b=None)`"
   ]
  },
  {
   "cell_type": "markdown",
   "id": "35ce15f2-2d6c-4dd4-8c69-bb0518053e21",
   "metadata": {},
   "source": [
    "The code will be non-vectorized as the vectorized version has already been covered"
   ]
  },
  {
   "cell_type": "code",
   "execution_count": 2,
   "id": "92699a6b-b3d3-4f53-84e5-e09799791780",
   "metadata": {},
   "outputs": [],
   "source": [
    "def g(z):\n",
    "    return 1/(1+np.exp(-z))"
   ]
  },
  {
   "cell_type": "code",
   "execution_count": 3,
   "id": "4a35f92b-65ce-4e7a-b740-57684ee46223",
   "metadata": {},
   "outputs": [],
   "source": [
    "\n",
    "def createNNLayer(a,units,W=None,b=None):\n",
    "    # a is a nd array of order m by n\n",
    "    # m is no. of iterations\n",
    "    # n is no. of features\n",
    "    # W has a shape n by units\n",
    "    # a_out has a shape of m by units \n",
    "    # for every reading i the a_out has columns showing the neuron values\n",
    "    m,n=a.shape\n",
    "    a_out=np.zeros((m,units))\n",
    "    if W is None:\n",
    "        W=np.random.uniform(-1,1,(n,units))\n",
    "    if b is None:\n",
    "        b=np.random.uniform(-1,1,(units,1))\n",
    "    for i in range(m):\n",
    "        for j in range(units):\n",
    "            a_out[i][j]=g(np.dot(W[:,j],a[i,:])+b[j,0])\n",
    "    return a_out"
   ]
  },
  {
   "cell_type": "code",
   "execution_count": 4,
   "id": "64ca3858-b432-4d80-a512-3ff12aefd756",
   "metadata": {},
   "outputs": [],
   "source": [
    "a1=np.array([1,2,5,7,10])\n",
    "a2=createNNLayer(a1.reshape(-1,1),10)"
   ]
  },
  {
   "cell_type": "code",
   "execution_count": 5,
   "id": "047ddeaa-131f-47af-9a1e-01983e4ec4ee",
   "metadata": {},
   "outputs": [
    {
     "data": {
      "text/plain": [
       "array([[5.18022662e-01, 3.33505991e-01, 5.55453873e-01, 2.67308579e-01,\n",
       "        4.18954375e-01, 2.14601098e-01, 6.44058391e-01, 4.40324853e-01,\n",
       "        7.44134643e-01, 2.74967736e-01],\n",
       "       [5.56281941e-01, 3.97959800e-01, 5.38059975e-01, 1.53053275e-01,\n",
       "        3.91632046e-01, 1.12749262e-01, 8.28658088e-01, 3.57707000e-01,\n",
       "        8.44750383e-01, 2.37746309e-01],\n",
       "       [6.65516951e-01, 6.03774683e-01, 4.85490232e-01, 2.14899815e-02,\n",
       "        3.14184811e-01, 1.26219905e-02, 9.89286912e-01, 1.64958131e-01,\n",
       "        9.72703366e-01, 1.47843760e-01],\n",
       "       [7.30252871e-01, 7.26713624e-01, 4.50549947e-01, 5.35952596e-03,\n",
       "        2.67487694e-01, 2.75737990e-03, 9.98486425e-01, 9.00714050e-02,\n",
       "        9.92046740e-01, 1.05021033e-01],\n",
       "       [8.11195641e-01, 8.59748604e-01, 3.99142509e-01, 6.54425442e-04,\n",
       "        2.06266909e-01, 2.78068668e-04, 9.99920616e-01, 3.39206109e-02,\n",
       "        9.98777333e-01, 6.12734166e-02]])"
      ]
     },
     "execution_count": 5,
     "metadata": {},
     "output_type": "execute_result"
    }
   ],
   "source": [
    "a2"
   ]
  },
  {
   "cell_type": "markdown",
   "id": "e1acde4d-7733-4bba-a8eb-1376b4c2fc96",
   "metadata": {},
   "source": [
    "## Interpretaion of output: \n",
    "1- The output has 5 rows which shows the number of data points i.e total number of readings.\n",
    "\n",
    "2- The output has 10 columns that show the outpput corresponding to each artificial neuron in the network."
   ]
  },
  {
   "cell_type": "markdown",
   "id": "eec53013-f8c2-413d-bcc5-2fffc2c7a02d",
   "metadata": {},
   "source": [
    "## Lets make a more fancy function for layer"
   ]
  },
  {
   "cell_type": "code",
   "execution_count": 6,
   "id": "cfbee7ca-c234-4e73-83ed-c70396416775",
   "metadata": {},
   "outputs": [],
   "source": [
    "def NNLayer(units,activation):\n",
    "    # a is a nd array of order m by n\n",
    "    # m is no. of iterations\n",
    "    # n is no. of features\n",
    "    # W has a shape n by units\n",
    "    # a_out has a shape of m by units \n",
    "    # for every reading i the a_out has columns showing the neuron values\n",
    "    # activation is the type of activation function we want to use e.g. sigmoid, ReLU, linear\n",
    "    \n",
    "    def get_a_out(a,W_init=None,b_init=None):\n",
    "        m,n=a.shape\n",
    "        a_out=np.zeros((m,units))\n",
    "        if W_init is None:\n",
    "            W=np.random.uniform(-1,1,(n,units))\n",
    "        else:\n",
    "            W=W_init\n",
    "        if b_init is None:\n",
    "            b=np.random.uniform(-1,1,(units,1))\n",
    "        else: \n",
    "            b=b_init\n",
    "        for i in range(m):\n",
    "            for j in range(units):\n",
    "                a_out[i][j]=g(np.dot(W[:,j],a[i,:])+b[j,0])\n",
    "        return a_out\n",
    "    return get_a_out"
   ]
  },
  {
   "cell_type": "code",
   "execution_count": 7,
   "id": "e3166407-fc98-4a28-8c39-eec5b6ef228c",
   "metadata": {},
   "outputs": [],
   "source": [
    "myLayer=NNLayer(units=10,activation='sigmoid')"
   ]
  },
  {
   "cell_type": "code",
   "execution_count": 8,
   "id": "16417c43-8d06-4843-9b6f-06d9c83eab1b",
   "metadata": {},
   "outputs": [
    {
     "data": {
      "text/plain": [
       "array([[6.33407673e-01, 4.60326685e-01, 2.04646311e-01, 7.90248964e-01,\n",
       "        3.05990764e-01, 7.76233708e-01, 2.12958429e-01, 6.83523515e-01,\n",
       "        7.89558666e-01, 2.13380036e-01],\n",
       "       [7.68001236e-01, 4.58990079e-01, 8.71247452e-02, 8.75836410e-01,\n",
       "        1.92684677e-01, 8.63562739e-01, 1.44024593e-01, 8.12351813e-01,\n",
       "        8.95445500e-01, 1.36668616e-01],\n",
       "       [9.58815854e-01, 4.54983878e-01, 4.84707019e-03, 9.78856182e-01,\n",
       "        3.64794040e-02, 9.74648827e-01, 3.88852794e-02, 9.72116004e-01,\n",
       "        9.90278535e-01, 3.05031720e-02],\n",
       "       [9.88433822e-01, 4.52316278e-01, 6.69686394e-04, 9.93875668e-01,\n",
       "        1.09727834e-02, 9.92247465e-01, 1.54036846e-02, 9.92911215e-01,\n",
       "        9.98119511e-01, 1.06016796e-02],\n",
       "       [9.98338917e-01, 4.48320057e-01, 3.41984922e-05, 9.99061979e-01,\n",
       "        1.75682161e-03, 9.98715375e-01, 3.74774774e-03, 9.99114246e-01,\n",
       "        9.99841624e-01, 2.12513700e-03]])"
      ]
     },
     "execution_count": 8,
     "metadata": {},
     "output_type": "execute_result"
    }
   ],
   "source": [
    "myLayer(a1.reshape(-1,1))"
   ]
  },
  {
   "cell_type": "markdown",
   "id": "f014c414-a8ae-46d3-8ae2-b12af899aed1",
   "metadata": {},
   "source": [
    "## Lets do some work with Tensorflow"
   ]
  },
  {
   "cell_type": "markdown",
   "id": "7fbb3ef2-0e60-437d-bcaa-71df6ce04e7f",
   "metadata": {},
   "source": [
    "### Lets examine the Coffee data using Tensorflow"
   ]
  },
  {
   "cell_type": "markdown",
   "id": "94416729-80db-4485-9911-c18ce5bcbf27",
   "metadata": {},
   "source": [
    "## <p style='color:red;'>Importing the Coffee Data</p>"
   ]
  },
  {
   "cell_type": "code",
   "execution_count": 9,
   "id": "041b1184-862c-49c2-bf95-f66db215c4cd",
   "metadata": {},
   "outputs": [],
   "source": [
    "import pickle\n",
    "with open('Coffee Roasting_BinaryOut','rb') as file:\n",
    "    y_train=pickle.load(file)\n",
    "with open('Coffee Roasting_inputData(Temp and Duration)','rb') as file:\n",
    "    x_train=pickle.load(file)"
   ]
  },
  {
   "cell_type": "code",
   "execution_count": 10,
   "id": "a0d303b6-16e9-4c63-a114-ffeca1d13be1",
   "metadata": {},
   "outputs": [
    {
     "data": {
      "text/plain": [
       "((200, 2), (200, 1))"
      ]
     },
     "execution_count": 10,
     "metadata": {},
     "output_type": "execute_result"
    }
   ],
   "source": [
    "x_train.shape,y_train.shape"
   ]
  },
  {
   "cell_type": "markdown",
   "id": "6fabb3d0-779c-4393-a6a9-592256d9a9eb",
   "metadata": {},
   "source": [
    "### Normalize the Data using Numpy only"
   ]
  },
  {
   "cell_type": "code",
   "execution_count": 11,
   "id": "fe91dcf8-4fb9-42e0-9cc8-22160fb73482",
   "metadata": {},
   "outputs": [],
   "source": [
    "cols=x_train.shape[1]\n",
    "x_scaled=np.zeros(x_train.shape)\n",
    "for j in range(cols):\n",
    "    x_scaled[:,j]=(x_train[:,j]-np.mean(x_train[:,j]))/(np.max(x_train[:,j])-np.min(x_train[:,j]))"
   ]
  },
  {
   "cell_type": "code",
   "execution_count": 12,
   "id": "0ee09c9a-a164-4352-80e2-354267bdb654",
   "metadata": {},
   "outputs": [],
   "source": [
    "model=tf.keras.Sequential([\n",
    "    tf.keras.Input(shape=(2,)),\n",
    "    tf.keras.layers.Dense(units=3,activation='relu'),\n",
    "    #tf.keras.layers.Dense(units=3,activation='relu'),\n",
    "    tf.keras.layers.Dense(units=1,activation='sigmoid'),\n",
    "])\n",
    "losses=tf.keras.losses.BinaryCrossentropy()\n",
    "optimizer=tf.keras.optimizers.Adam(learning_rate=0.01)"
   ]
  },
  {
   "cell_type": "code",
   "execution_count": 13,
   "id": "edc7d56b-7ff3-4162-90c5-c9fcc06c44df",
   "metadata": {},
   "outputs": [
    {
     "name": "stdout",
     "output_type": "stream",
     "text": [
      "Epoch 1/100\n",
      "7/7 - 0s - loss: 93.1554 - accuracy: 0.2150\n",
      "Epoch 2/100\n",
      "7/7 - 0s - loss: 74.9152 - accuracy: 0.2150\n",
      "Epoch 3/100\n",
      "7/7 - 0s - loss: 59.3833 - accuracy: 0.2150\n",
      "Epoch 4/100\n",
      "7/7 - 0s - loss: 45.4064 - accuracy: 0.2150\n",
      "Epoch 5/100\n",
      "7/7 - 0s - loss: 33.7151 - accuracy: 0.2150\n",
      "Epoch 6/100\n",
      "7/7 - 0s - loss: 23.9009 - accuracy: 0.2150\n",
      "Epoch 7/100\n",
      "7/7 - 0s - loss: 15.9367 - accuracy: 0.2150\n",
      "Epoch 8/100\n",
      "7/7 - 0s - loss: 9.2152 - accuracy: 0.2150\n",
      "Epoch 9/100\n",
      "7/7 - 0s - loss: 3.7119 - accuracy: 0.2150\n",
      "Epoch 10/100\n",
      "7/7 - 0s - loss: 0.6497 - accuracy: 0.6650\n",
      "Epoch 11/100\n",
      "7/7 - 0s - loss: 0.5548 - accuracy: 0.7850\n",
      "Epoch 12/100\n",
      "7/7 - 0s - loss: 0.5513 - accuracy: 0.7850\n",
      "Epoch 13/100\n",
      "7/7 - 0s - loss: 0.5489 - accuracy: 0.7850\n",
      "Epoch 14/100\n",
      "7/7 - 0s - loss: 0.5473 - accuracy: 0.7850\n",
      "Epoch 15/100\n",
      "7/7 - 0s - loss: 0.5460 - accuracy: 0.7850\n",
      "Epoch 16/100\n",
      "7/7 - 0s - loss: 0.5446 - accuracy: 0.7850\n",
      "Epoch 17/100\n",
      "7/7 - 0s - loss: 0.5433 - accuracy: 0.7850\n",
      "Epoch 18/100\n",
      "7/7 - 0s - loss: 0.5423 - accuracy: 0.7850\n",
      "Epoch 19/100\n",
      "7/7 - 0s - loss: 0.5411 - accuracy: 0.7850\n",
      "Epoch 20/100\n",
      "7/7 - 0s - loss: 0.5402 - accuracy: 0.7850\n",
      "Epoch 21/100\n",
      "7/7 - 0s - loss: 0.5393 - accuracy: 0.7850\n",
      "Epoch 22/100\n",
      "7/7 - 0s - loss: 0.5383 - accuracy: 0.7850\n",
      "Epoch 23/100\n",
      "7/7 - 0s - loss: 0.5374 - accuracy: 0.7850\n",
      "Epoch 24/100\n",
      "7/7 - 0s - loss: 0.5366 - accuracy: 0.7850\n",
      "Epoch 25/100\n",
      "7/7 - 0s - loss: 0.5358 - accuracy: 0.7850\n",
      "Epoch 26/100\n",
      "7/7 - 0s - loss: 0.5351 - accuracy: 0.7850\n",
      "Epoch 27/100\n",
      "7/7 - 0s - loss: 0.5343 - accuracy: 0.7850\n",
      "Epoch 28/100\n",
      "7/7 - 0s - loss: 0.5335 - accuracy: 0.7850\n",
      "Epoch 29/100\n",
      "7/7 - 0s - loss: 0.5327 - accuracy: 0.7850\n",
      "Epoch 30/100\n",
      "7/7 - 0s - loss: 0.5320 - accuracy: 0.7850\n",
      "Epoch 31/100\n",
      "7/7 - 0s - loss: 0.5313 - accuracy: 0.7850\n",
      "Epoch 32/100\n",
      "7/7 - 0s - loss: 0.5308 - accuracy: 0.7850\n",
      "Epoch 33/100\n",
      "7/7 - 0s - loss: 0.5302 - accuracy: 0.7850\n",
      "Epoch 34/100\n",
      "7/7 - 0s - loss: 0.5297 - accuracy: 0.7850\n",
      "Epoch 35/100\n",
      "7/7 - 0s - loss: 0.5292 - accuracy: 0.7850\n",
      "Epoch 36/100\n",
      "7/7 - 0s - loss: 0.5285 - accuracy: 0.7850\n",
      "Epoch 37/100\n",
      "7/7 - 0s - loss: 0.5279 - accuracy: 0.7850\n",
      "Epoch 38/100\n",
      "7/7 - 0s - loss: 0.5276 - accuracy: 0.7850\n",
      "Epoch 39/100\n",
      "7/7 - 0s - loss: 0.5269 - accuracy: 0.7850\n",
      "Epoch 40/100\n",
      "7/7 - 0s - loss: 0.5266 - accuracy: 0.7850\n",
      "Epoch 41/100\n",
      "7/7 - 0s - loss: 0.5261 - accuracy: 0.7850\n",
      "Epoch 42/100\n",
      "7/7 - 0s - loss: 0.5257 - accuracy: 0.7850\n",
      "Epoch 43/100\n",
      "7/7 - 0s - loss: 0.5254 - accuracy: 0.7850\n",
      "Epoch 44/100\n",
      "7/7 - 0s - loss: 0.5250 - accuracy: 0.7850\n",
      "Epoch 45/100\n",
      "7/7 - 0s - loss: 0.5248 - accuracy: 0.7850\n",
      "Epoch 46/100\n",
      "7/7 - 0s - loss: 0.5245 - accuracy: 0.7850\n",
      "Epoch 47/100\n",
      "7/7 - 0s - loss: 0.5243 - accuracy: 0.7850\n",
      "Epoch 48/100\n",
      "7/7 - 0s - loss: 0.5240 - accuracy: 0.7850\n",
      "Epoch 49/100\n",
      "7/7 - 0s - loss: 0.5236 - accuracy: 0.7850\n",
      "Epoch 50/100\n",
      "7/7 - 0s - loss: 0.5235 - accuracy: 0.7850\n",
      "Epoch 51/100\n",
      "7/7 - 0s - loss: 0.5234 - accuracy: 0.7850\n",
      "Epoch 52/100\n",
      "7/7 - 0s - loss: 0.5234 - accuracy: 0.7850\n",
      "Epoch 53/100\n",
      "7/7 - 0s - loss: 0.5233 - accuracy: 0.7850\n",
      "Epoch 54/100\n",
      "7/7 - 0s - loss: 0.5232 - accuracy: 0.7850\n",
      "Epoch 55/100\n",
      "7/7 - 0s - loss: 0.5230 - accuracy: 0.7850\n",
      "Epoch 56/100\n",
      "7/7 - 0s - loss: 0.5228 - accuracy: 0.7850\n",
      "Epoch 57/100\n",
      "7/7 - 0s - loss: 0.5225 - accuracy: 0.7850\n",
      "Epoch 58/100\n",
      "7/7 - 0s - loss: 0.5223 - accuracy: 0.7850\n",
      "Epoch 59/100\n",
      "7/7 - 0s - loss: 0.5221 - accuracy: 0.7850\n",
      "Epoch 60/100\n",
      "7/7 - 0s - loss: 0.5220 - accuracy: 0.7850\n",
      "Epoch 61/100\n",
      "7/7 - 0s - loss: 0.5218 - accuracy: 0.7850\n",
      "Epoch 62/100\n",
      "7/7 - 0s - loss: 0.5217 - accuracy: 0.7850\n",
      "Epoch 63/100\n",
      "7/7 - 0s - loss: 0.5216 - accuracy: 0.7850\n",
      "Epoch 64/100\n",
      "7/7 - 0s - loss: 0.5216 - accuracy: 0.7850\n",
      "Epoch 65/100\n",
      "7/7 - 0s - loss: 0.5215 - accuracy: 0.7850\n",
      "Epoch 66/100\n",
      "7/7 - 0s - loss: 0.5215 - accuracy: 0.7850\n",
      "Epoch 67/100\n",
      "7/7 - 0s - loss: 0.5214 - accuracy: 0.7850\n",
      "Epoch 68/100\n",
      "7/7 - 0s - loss: 0.5212 - accuracy: 0.7850\n",
      "Epoch 69/100\n",
      "7/7 - 0s - loss: 0.5212 - accuracy: 0.7850\n",
      "Epoch 70/100\n",
      "7/7 - 0s - loss: 0.5211 - accuracy: 0.7850\n",
      "Epoch 71/100\n",
      "7/7 - 0s - loss: 0.5210 - accuracy: 0.7850\n",
      "Epoch 72/100\n",
      "7/7 - 0s - loss: 0.5210 - accuracy: 0.7850\n",
      "Epoch 73/100\n",
      "7/7 - 0s - loss: 0.5210 - accuracy: 0.7850\n",
      "Epoch 74/100\n",
      "7/7 - 0s - loss: 0.5210 - accuracy: 0.7850\n",
      "Epoch 75/100\n",
      "7/7 - 0s - loss: 0.5209 - accuracy: 0.7850\n",
      "Epoch 76/100\n",
      "7/7 - 0s - loss: 0.5209 - accuracy: 0.7850\n",
      "Epoch 77/100\n",
      "7/7 - 0s - loss: 0.5209 - accuracy: 0.7850\n",
      "Epoch 78/100\n",
      "7/7 - 0s - loss: 0.5208 - accuracy: 0.7850\n",
      "Epoch 79/100\n",
      "7/7 - 0s - loss: 0.5208 - accuracy: 0.7850\n",
      "Epoch 80/100\n",
      "7/7 - 0s - loss: 0.5208 - accuracy: 0.7850\n",
      "Epoch 81/100\n",
      "7/7 - 0s - loss: 0.5207 - accuracy: 0.7850\n",
      "Epoch 82/100\n",
      "7/7 - 0s - loss: 0.5207 - accuracy: 0.7850\n",
      "Epoch 83/100\n",
      "7/7 - 0s - loss: 0.5206 - accuracy: 0.7850\n",
      "Epoch 84/100\n",
      "7/7 - 0s - loss: 0.5206 - accuracy: 0.7850\n",
      "Epoch 85/100\n",
      "7/7 - 0s - loss: 0.5206 - accuracy: 0.7850\n",
      "Epoch 86/100\n",
      "7/7 - 0s - loss: 0.5206 - accuracy: 0.7850\n",
      "Epoch 87/100\n",
      "7/7 - 0s - loss: 0.5206 - accuracy: 0.7850\n",
      "Epoch 88/100\n",
      "7/7 - 0s - loss: 0.5206 - accuracy: 0.7850\n",
      "Epoch 89/100\n",
      "7/7 - 0s - loss: 0.5206 - accuracy: 0.7850\n",
      "Epoch 90/100\n",
      "7/7 - 0s - loss: 0.5206 - accuracy: 0.7850\n",
      "Epoch 91/100\n",
      "7/7 - 0s - loss: 0.5206 - accuracy: 0.7850\n",
      "Epoch 92/100\n",
      "7/7 - 0s - loss: 0.5206 - accuracy: 0.7850\n",
      "Epoch 93/100\n",
      "7/7 - 0s - loss: 0.5206 - accuracy: 0.7850\n",
      "Epoch 94/100\n",
      "7/7 - 0s - loss: 0.5205 - accuracy: 0.7850\n",
      "Epoch 95/100\n",
      "7/7 - 0s - loss: 0.5206 - accuracy: 0.7850\n",
      "Epoch 96/100\n",
      "7/7 - 0s - loss: 0.5205 - accuracy: 0.7850\n",
      "Epoch 97/100\n",
      "7/7 - 0s - loss: 0.5205 - accuracy: 0.7850\n",
      "Epoch 98/100\n",
      "7/7 - 0s - loss: 0.5206 - accuracy: 0.7850\n",
      "Epoch 99/100\n",
      "7/7 - 0s - loss: 0.5206 - accuracy: 0.7850\n",
      "Epoch 100/100\n",
      "7/7 - 0s - loss: 0.5206 - accuracy: 0.7850\n"
     ]
    },
    {
     "data": {
      "text/plain": [
       "<tensorflow.python.keras.callbacks.History at 0x286d05e6b80>"
      ]
     },
     "execution_count": 13,
     "metadata": {},
     "output_type": "execute_result"
    }
   ],
   "source": [
    "model.compile(loss=losses,optimizer=optimizer,metrics=['accuracy'])\n",
    "model.fit(x_train,y_train,epochs=100,verbose=2)"
   ]
  },
  {
   "cell_type": "code",
   "execution_count": 14,
   "id": "1af9871b-8382-46a6-89bd-5b41482e49db",
   "metadata": {},
   "outputs": [
    {
     "name": "stdout",
     "output_type": "stream",
     "text": [
      "Layer1 weights:  [array([[-0.05135967, -0.88888854, -0.75683737],\n",
      "       [-0.25557193, -0.15858752, -1.0260637 ]], dtype=float32), array([-0.63664633,  0.        ,  0.        ], dtype=float32)]\n",
      "Layer2 weights:  [array([[ 0.45062777],\n",
      "       [-0.8730043 ],\n",
      "       [-0.5730693 ]], dtype=float32), array([-1.2741557], dtype=float32)]\n"
     ]
    }
   ],
   "source": [
    "[layer_1,layer_2]=model.layers\n",
    "print(\"Layer1 weights: \",layer_1.get_weights() )\n",
    "print(\"Layer2 weights: \",layer_2.get_weights() )"
   ]
  },
  {
   "cell_type": "code",
   "execution_count": 15,
   "id": "2bbc0b8c-2da6-4a50-b67d-688e2a3a1f4b",
   "metadata": {},
   "outputs": [
    {
     "data": {
      "text/plain": [
       "array([[0.21854669]], dtype=float32)"
      ]
     },
     "execution_count": 15,
     "metadata": {},
     "output_type": "execute_result"
    }
   ],
   "source": [
    "x_test=np.array([[200,17]])  # positive sample,negative sample\n",
    "model.predict(x_test) ## this predicts only a single reading"
   ]
  },
  {
   "cell_type": "code",
   "execution_count": 16,
   "id": "1b591bb6-6cb9-42c1-b5bc-1a4109cbfc7c",
   "metadata": {},
   "outputs": [
    {
     "data": {
      "text/plain": [
       "(200, 1)"
      ]
     },
     "execution_count": 16,
     "metadata": {},
     "output_type": "execute_result"
    }
   ],
   "source": [
    "predictions=model.predict_on_batch(x_scaled)\n",
    "predictions.shape"
   ]
  },
  {
   "cell_type": "code",
   "execution_count": 17,
   "id": "62530fa7-7a42-4d1f-9b54-bab8b48c8445",
   "metadata": {},
   "outputs": [
    {
     "data": {
      "text/plain": [
       "(200, 1)"
      ]
     },
     "execution_count": 17,
     "metadata": {},
     "output_type": "execute_result"
    }
   ],
   "source": [
    "labels=y_train\n",
    "labels.shape"
   ]
  },
  {
   "cell_type": "code",
   "execution_count": 18,
   "id": "1aff740d-dd3f-429b-85b1-6b69bc07ca87",
   "metadata": {},
   "outputs": [
    {
     "data": {
      "text/plain": [
       "<tf.Tensor: shape=(2, 2), dtype=int32, numpy=\n",
       "array([[157,   0],\n",
       "       [ 43,   0]])>"
      ]
     },
     "execution_count": 18,
     "metadata": {},
     "output_type": "execute_result"
    }
   ],
   "source": [
    "cm=tf.math.confusion_matrix(labels.reshape(200,),predictions.reshape(200,))\n",
    "cm"
   ]
  },
  {
   "cell_type": "code",
   "execution_count": 19,
   "id": "f56263de-cc96-4239-b619-e8cbe3d2e18c",
   "metadata": {},
   "outputs": [],
   "source": [
    "import seaborn as sns"
   ]
  },
  {
   "cell_type": "code",
   "execution_count": 20,
   "id": "037c9e03-457a-4220-a943-fb0bd49d134f",
   "metadata": {},
   "outputs": [
    {
     "data": {
      "text/plain": [
       "<Axes: >"
      ]
     },
     "execution_count": 20,
     "metadata": {},
     "output_type": "execute_result"
    },
    {
     "data": {
      "image/png": "[encoded data removed]",
      "text/plain": [
       "<Figure size 640x480 with 2 Axes>"
      ]
     },
     "metadata": {},
     "output_type": "display_data"
    }
   ],
   "source": [
    "sns.heatmap(cm)"
   ]
  },
  {
   "cell_type": "code",
   "execution_count": 21,
   "id": "a64e1c80-67ae-41c4-9587-9044c1b07ef8",
   "metadata": {},
   "outputs": [],
   "source": [
    "accuracy=(cm[0,0]+cm[1,1])/np.sum(cm)*100"
   ]
  },
  {
   "cell_type": "code",
   "execution_count": 22,
   "id": "0ed53b95-31f9-4f33-85bd-b92abeb042dc",
   "metadata": {},
   "outputs": [
    {
     "data": {
      "text/plain": [
       "<tf.Tensor: shape=(), dtype=float64, numpy=78.5>"
      ]
     },
     "execution_count": 22,
     "metadata": {},
     "output_type": "execute_result"
    }
   ],
   "source": [
    "accuracy"
   ]
  },
  {
   "cell_type": "code",
   "execution_count": null,
   "id": "c75ffd3a-d818-40db-acd0-c7557b5aa495",
   "metadata": {},
   "outputs": [],
   "source": []
  }
 ],
 "metadata": {
  "kernelspec": {
   "display_name": "Python 3 (ipykernel)",
   "language": "python",
   "name": "python3"
  },
  "language_info": {
   "codemirror_mode": {
    "name": "ipython",
    "version": 3
   },
   "file_extension": ".py",
   "mimetype": "text/x-python",
   "name": "python",
   "nbconvert_exporter": "python",
   "pygments_lexer": "ipython3",
   "version": "3.8.20"
  }
 },
 "nbformat": 4,
 "nbformat_minor": 5
}

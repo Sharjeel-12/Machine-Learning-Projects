{
 "cells": [
  {
   "cell_type": "markdown",
   "id": "41b71a45-6fc9-4dd7-8004-c19fa2a82de3",
   "metadata": {},
   "source": [
    "# We will be using `numpy` only for this tutorial no built in module"
   ]
  },
  {
   "cell_type": "code",
   "execution_count": 95,
   "id": "54d9510f-81d7-4161-a5ed-e5b64095b41b",
   "metadata": {},
   "outputs": [],
   "source": [
    "import numpy as np\n",
    "import seaborn as sns\n",
    "import matplotlib.pyplot as plt\n",
    "%matplotlib inline\n",
    "sns.set()"
   ]
  },
  {
   "cell_type": "markdown",
   "id": "dca2bf4e-e9e1-4240-8818-6e88fa922268",
   "metadata": {},
   "source": [
    "### Let us declare the trainind data points"
   ]
  },
  {
   "cell_type": "code",
   "execution_count": 96,
   "id": "4e441f1f-cbde-4aa7-b1ed-58eacedd852a",
   "metadata": {},
   "outputs": [],
   "source": [
    "x_train = np.array([1.0, 2.0])           #(size in 1000 square feet)\n",
    "y_train = np.array([300.0, 500.0])           #(price in 1000s of dollars)"
   ]
  },
  {
   "cell_type": "markdown",
   "id": "b6fcb03b-6670-4818-9825-2b743b9c301f",
   "metadata": {},
   "source": [
    "# Cost Function Computer for Univariate Linear Regression"
   ]
  },
  {
   "cell_type": "markdown",
   "id": "c6a4179a-6936-4b2f-8d94-a39383ff89ad",
   "metadata": {},
   "source": [
    "### The cost function needs four things as argument: `w,x,y and b`"
   ]
  },
  {
   "cell_type": "code",
   "execution_count": 97,
   "id": "80aeb5b3-f405-4589-a502-13c37e760e07",
   "metadata": {},
   "outputs": [],
   "source": [
    "def compute_cost(x,y,w,b):\n",
    "    m=x.shape[0]\n",
    "    total_cost=0\n",
    "    for i in range(m):\n",
    "        f_wb=w*x[i]+b\n",
    "        delta=f_wb-y[i]\n",
    "        total_cost=total_cost+(1/(2*m))*(delta)**2\n",
    "    return total_cost    "
   ]
  },
  {
   "cell_type": "markdown",
   "id": "abcee15e-f970-4407-b100-a8f571d6f17b",
   "metadata": {},
   "source": [
    "## For simplicity we initially let cost function be a function of w only we fix `b=100`"
   ]
  },
  {
   "cell_type": "markdown",
   "id": "b40e7b36-918d-4fe1-b803-d0256abbf2e6",
   "metadata": {},
   "source": [
    "## Computing the Relation between Cost Function (J) and weight (w)"
   ]
  },
  {
   "cell_type": "code",
   "execution_count": 99,
   "id": "2cd3fd00-2102-4a12-b36b-e2e7d5cc7138",
   "metadata": {},
   "outputs": [
    {
     "data": {
      "text/plain": [
       "0.0"
      ]
     },
     "execution_count": 99,
     "metadata": {},
     "output_type": "execute_result"
    }
   ],
   "source": [
    "compute_cost(x_train,y_train,200,100)"
   ]
  },
  {
   "cell_type": "code",
   "execution_count": 100,
   "id": "afd00947-3a3c-492a-9069-84dd1004191e",
   "metadata": {},
   "outputs": [],
   "source": [
    "x_train = np.array([1.0, 1.7, 2.0, 2.5, 3.0, 3.2])\n",
    "y_train = np.array([250, 300, 480,  430,   630, 730,])"
   ]
  },
  {
   "cell_type": "code",
   "execution_count": 102,
   "id": "2c554727-fb13-4e87-83c7-17777aa96c43",
   "metadata": {},
   "outputs": [],
   "source": [
    "w=np.arange(-1000,1000)\n",
    "costs=[]\n",
    "for i in range(w.shape[0]):\n",
    "    costs.append(compute_cost(x_train,y_train,w[i],100))\n"
   ]
  },
  {
   "cell_type": "code",
   "execution_count": 103,
   "id": "f83845ca-b136-4903-a747-3d6e9a45fb37",
   "metadata": {},
   "outputs": [
    {
     "data": {
      "image/png": "[encoded data removed]",
      "text/plain": [
       "<Figure size 640x480 with 1 Axes>"
      ]
     },
     "metadata": {},
     "output_type": "display_data"
    }
   ],
   "source": [
    "plt.plot(w,costs,'r--', lw=3,)\n",
    "plt.xlabel('w')\n",
    "plt.ylabel('y')\n",
    "plt.show()"
   ]
  },
  {
   "cell_type": "markdown",
   "id": "a838f548-050b-4994-ac0e-c607200a3c99",
   "metadata": {},
   "source": [
    " ## Lets make a gradient function now"
   ]
  },
  {
   "cell_type": "code",
   "execution_count": 104,
   "id": "b5d875f9-d2c1-45d3-8175-f9faa12fa269",
   "metadata": {},
   "outputs": [],
   "source": [
    "def compute_gradient(x,y,w,b):\n",
    "    m=x.shape[0]\n",
    "    dj_dw=0\n",
    "    dj_db=0\n",
    "    for i in range(m):\n",
    "        f_wb=w*x[i]+b\n",
    "        delta=f_wb-y[i]\n",
    "        dj_dw=dj_dw+(1/m)*(x[i]*delta)\n",
    "        dj_db=dj_db+(1/m)*(delta)\n",
    "    return dj_dw,dj_db\n"
   ]
  },
  {
   "cell_type": "code",
   "execution_count": 105,
   "id": "f711c4de-dc5d-452e-a2fd-72fb36ea0487",
   "metadata": {},
   "outputs": [
    {
     "data": {
      "text/plain": [
       "(0.045999999999935426, 10.113333333333307)"
      ]
     },
     "execution_count": 105,
     "metadata": {},
     "output_type": "execute_result"
    }
   ],
   "source": [
    "compute_gradient(x_train,y_train,170.2,100)"
   ]
  },
  {
   "cell_type": "markdown",
   "id": "fbe7b834-6b72-49e8-8153-9ded38027a5b",
   "metadata": {},
   "source": [
    "## Compute Gradient Descent"
   ]
  },
  {
   "cell_type": "code",
   "execution_count": 109,
   "id": "7111e426-9bd3-482a-81ba-31b5ca3a9d27",
   "metadata": {},
   "outputs": [],
   "source": [
    "def compute_gradient_descent(x,y,initial_weight,initial_bias,iterations,learning_rate):\n",
    "    w=initial_weight\n",
    "    b=initial_bias\n",
    "    for j in range(iterations):\n",
    "        w=w-learning_rate*compute_gradient(x,y,w,b)[0]\n",
    "        b=b-learning_rate*compute_gradient(x,y,w,b)[1]\n",
    "        if (j+1)%100 == 0:\n",
    "            print(f'After iteration: {j+1} the value of cost function j_wb= {compute_cost(x,y,w,b)}')\n",
    "    return w,b"
   ]
  },
  {
   "cell_type": "code",
   "execution_count": 110,
   "id": "6021883e-71f7-4ccb-84b6-5918fbc378cb",
   "metadata": {},
   "outputs": [
    {
     "data": {
      "text/plain": [
       "0.5623237646697256"
      ]
     },
     "execution_count": 110,
     "metadata": {},
     "output_type": "execute_result"
    }
   ],
   "source": [
    "np.random.rand()"
   ]
  },
  {
   "cell_type": "code",
   "execution_count": 112,
   "id": "26638982-b091-4393-a629-85f09027735e",
   "metadata": {},
   "outputs": [
    {
     "name": "stdout",
     "output_type": "stream",
     "text": [
      "After iteration: 100 the value of cost function j_wb= 1933.5876189850665\n",
      "After iteration: 200 the value of cost function j_wb= 1900.936711712316\n",
      "After iteration: 300 the value of cost function j_wb= 1873.8476553084156\n",
      "After iteration: 400 the value of cost function j_wb= 1851.204561627581\n",
      "After iteration: 500 the value of cost function j_wb= 1832.2777129189021\n",
      "After iteration: 600 the value of cost function j_wb= 1816.457189104261\n",
      "After iteration: 700 the value of cost function j_wb= 1803.2331718564444\n",
      "After iteration: 800 the value of cost function j_wb= 1792.1795155919979\n",
      "After iteration: 900 the value of cost function j_wb= 1782.9400148772847\n",
      "After iteration: 1000 the value of cost function j_wb= 1775.2169256645564\n",
      "After iteration: 1100 the value of cost function j_wb= 1768.7613704533555\n",
      "After iteration: 1200 the value of cost function j_wb= 1763.3653181824343\n",
      "After iteration: 1300 the value of cost function j_wb= 1758.854880403202\n",
      "After iteration: 1400 the value of cost function j_wb= 1755.0847077030694\n",
      "After iteration: 1500 the value of cost function j_wb= 1751.9333058027312\n",
      "After iteration: 1600 the value of cost function j_wb= 1749.299120388067\n",
      "After iteration: 1700 the value of cost function j_wb= 1747.0972645098682\n",
      "After iteration: 1800 the value of cost function j_wb= 1745.2567830914481\n",
      "After iteration: 1900 the value of cost function j_wb= 1743.718366392568\n",
      "After iteration: 2000 the value of cost function j_wb= 1742.4324387457546\n",
      "After iteration: 2100 the value of cost function j_wb= 1741.3575609743134\n",
      "After iteration: 2200 the value of cost function j_wb= 1740.459095009762\n",
      "After iteration: 2300 the value of cost function j_wb= 1739.7080876758082\n",
      "After iteration: 2400 the value of cost function j_wb= 1739.080337668677\n",
      "After iteration: 2500 the value of cost function j_wb= 1738.5556156671253\n",
      "After iteration: 2600 the value of cost function j_wb= 1738.1170124400683\n",
      "After iteration: 2700 the value of cost function j_wb= 1737.7503939445296\n",
      "After iteration: 2800 the value of cost function j_wb= 1737.4439458543688\n",
      "After iteration: 2900 the value of cost function j_wb= 1737.1877928421577\n",
      "After iteration: 3000 the value of cost function j_wb= 1736.9736803455526\n"
     ]
    },
    {
     "data": {
      "text/plain": [
       "(207.49176563482965, 7.008877732929042)"
      ]
     },
     "execution_count": 112,
     "metadata": {},
     "output_type": "execute_result"
    }
   ],
   "source": [
    "compute_gradient_descent(x_train,y_train,np.random.rand(),np.random.rand(),3000,0.01)"
   ]
  },
  {
   "cell_type": "markdown",
   "id": "136b65b9-b227-46b5-92b1-3921aeb866cb",
   "metadata": {},
   "source": [
    "## We have completed Gradient Descent Algorithm building for a Univariate Linear Regression"
   ]
  },
  {
   "cell_type": "markdown",
   "id": "ef03ae38-8f8b-4713-8f3f-5c8beda0bfa9",
   "metadata": {},
   "source": [
    "### Lets plot the results"
   ]
  },
  {
   "cell_type": "code",
   "execution_count": 113,
   "id": "fa33d0d7-2c44-4705-8a2c-0ecbddebbcfd",
   "metadata": {},
   "outputs": [
    {
     "name": "stdout",
     "output_type": "stream",
     "text": [
      "After iteration: 100 the value of cost function j_wb= 1937.6064790857854\n",
      "After iteration: 200 the value of cost function j_wb= 1904.2962875573953\n",
      "After iteration: 300 the value of cost function j_wb= 1876.6558483129086\n",
      "After iteration: 400 the value of cost function j_wb= 1853.5518665054822\n",
      "After iteration: 500 the value of cost function j_wb= 1834.2397718592338\n",
      "After iteration: 600 the value of cost function j_wb= 1818.0972296978714\n",
      "After iteration: 700 the value of cost function j_wb= 1804.604044613322\n",
      "After iteration: 800 the value of cost function j_wb= 1793.325397055461\n",
      "After iteration: 900 the value of cost function j_wb= 1783.8978312185366\n",
      "After iteration: 1000 the value of cost function j_wb= 1776.017542633082\n",
      "After iteration: 1100 the value of cost function j_wb= 1769.4305880295055\n",
      "After iteration: 1200 the value of cost function j_wb= 1763.9247019849713\n",
      "After iteration: 1300 the value of cost function j_wb= 1759.322456644012\n",
      "After iteration: 1400 the value of cost function j_wb= 1755.4755440840636\n",
      "After iteration: 1500 the value of cost function j_wb= 1752.2599970743909\n",
      "After iteration: 1600 the value of cost function j_wb= 1749.572194216832\n",
      "After iteration: 1700 the value of cost function j_wb= 1747.3255207334819\n",
      "After iteration: 1800 the value of cost function j_wb= 1745.44757729481\n",
      "After iteration: 1900 the value of cost function j_wb= 1743.8778469423646\n",
      "After iteration: 2000 the value of cost function j_wb= 1742.5657449223331\n",
      "After iteration: 2100 the value of cost function j_wb= 1741.4689885856226\n",
      "After iteration: 2200 the value of cost function j_wb= 1740.552234824292\n",
      "After iteration: 2300 the value of cost function j_wb= 1739.7859411355428\n",
      "After iteration: 2400 the value of cost function j_wb= 1739.14541361094\n",
      "After iteration: 2500 the value of cost function j_wb= 1738.6100111721657\n",
      "After iteration: 2600 the value of cost function j_wb= 1738.1624804097305\n",
      "After iteration: 2700 the value of cost function j_wb= 1737.7883995897348\n",
      "After iteration: 2800 the value of cost function j_wb= 1737.4757139117094\n",
      "After iteration: 2900 the value of cost function j_wb= 1737.2143470411927\n",
      "After iteration: 3000 the value of cost function j_wb= 1736.9958763986135\n"
     ]
    }
   ],
   "source": [
    "w_final,b_final=compute_gradient_descent(x_train,y_train,np.random.rand(),np.random.rand(),3000,0.01)"
   ]
  },
  {
   "cell_type": "code",
   "execution_count": 114,
   "id": "e8a70229-5ad8-4fde-ab96-32993e753f12",
   "metadata": {},
   "outputs": [],
   "source": [
    "y_hat=w_final*x_train+b_final"
   ]
  },
  {
   "cell_type": "code",
   "execution_count": 123,
   "id": "df178a50-3d79-42b1-b831-fb67a0e6299c",
   "metadata": {},
   "outputs": [
    {
     "data": {
      "image/png": "[encoded data removed]",
      "text/plain": [
       "<Figure size 640x480 with 1 Axes>"
      ]
     },
     "metadata": {},
     "output_type": "display_data"
    }
   ],
   "source": [
    "plt.scatter(x_train,y_train,c='green')\n",
    "plt.plot(x_train,y_hat, '--',color='red',lw=4)\n",
    "plt.show()"
   ]
  }
 ],
 "metadata": {
  "kernelspec": {
   "display_name": "Python 3 (ipykernel)",
   "language": "python",
   "name": "python3"
  },
  "language_info": {
   "codemirror_mode": {
    "name": "ipython",
    "version": 3
   },
   "file_extension": ".py",
   "mimetype": "text/x-python",
   "name": "python",
   "nbconvert_exporter": "python",
   "pygments_lexer": "ipython3",
   "version": "3.12.7"
  }
 },
 "nbformat": 4,
 "nbformat_minor": 5
}
